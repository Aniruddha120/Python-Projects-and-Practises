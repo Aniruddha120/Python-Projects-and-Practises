{
 "cells": [
  {
   "cell_type": "markdown",
   "id": "948bd60b-3c8c-4b65-99c9-6aa7c832e8cd",
   "metadata": {},
   "source": [
    "# Conditional Statements"
   ]
  },
  {
   "cell_type": "markdown",
   "id": "d0439aa8-1fab-4a75-ac59-f3af6094d94b",
   "metadata": {},
   "source": [
    "if/else"
   ]
  },
  {
   "cell_type": "markdown",
   "id": "9eb21469-a0d0-4e5b-8143-4cda4bc2253c",
   "metadata": {},
   "source": [
    "Boolean operation\n",
    "True or False"
   ]
  },
  {
   "cell_type": "code",
   "execution_count": 22,
   "id": "05cdd740-08f6-485a-b030-da9f434882cd",
   "metadata": {},
   "outputs": [],
   "source": [
    "a = (5==6)\n",
    "c = (5!=6)\n",
    "b = (5==5)"
   ]
  },
  {
   "cell_type": "code",
   "execution_count": 20,
   "id": "63b88ab2-69e6-4efc-b2a6-3882226cdf6e",
   "metadata": {},
   "outputs": [
    {
     "data": {
      "text/plain": [
       "True"
      ]
     },
     "execution_count": 20,
     "metadata": {},
     "output_type": "execute_result"
    }
   ],
   "source": [
    "c"
   ]
  },
  {
   "cell_type": "code",
   "execution_count": 12,
   "id": "53fb1be3-da1e-40ed-86d3-15315b40c8d7",
   "metadata": {},
   "outputs": [
    {
     "data": {
      "text/plain": [
       "bool"
      ]
     },
     "execution_count": 12,
     "metadata": {},
     "output_type": "execute_result"
    }
   ],
   "source": [
    "type(a)"
   ]
  },
  {
   "cell_type": "code",
   "execution_count": 14,
   "id": "c33b3527-6f01-4807-ab85-5634fe396315",
   "metadata": {},
   "outputs": [
    {
     "data": {
      "text/plain": [
       "False"
      ]
     },
     "execution_count": 14,
     "metadata": {},
     "output_type": "execute_result"
    }
   ],
   "source": [
    "a"
   ]
  },
  {
   "cell_type": "markdown",
   "id": "4f96633e-c065-453d-b2a4-82eb2d7bee3e",
   "metadata": {},
   "source": [
    "## Comparison operator"
   ]
  },
  {
   "cell_type": "code",
   "execution_count": 32,
   "id": "7ef931f4-017b-433a-8196-af1170588d20",
   "metadata": {},
   "outputs": [
    {
     "name": "stdout",
     "output_type": "stream",
     "text": [
      "Greater False\n",
      "smaller True\n"
     ]
    }
   ],
   "source": [
    "x = 5\n",
    "y= 10\n",
    "print('Greater',x>y)\n",
    "print('smaller',x<y)"
   ]
  },
  {
   "cell_type": "code",
   "execution_count": 34,
   "id": "520dc782-2ac4-4ac7-8a29-f343d3738082",
   "metadata": {},
   "outputs": [
    {
     "name": "stdout",
     "output_type": "stream",
     "text": [
      "Equal False\n"
     ]
    }
   ],
   "source": [
    "print('Equal' , x is y)"
   ]
  },
  {
   "cell_type": "code",
   "execution_count": 36,
   "id": "36d33199-c47f-4269-b653-0e56dcda8482",
   "metadata": {},
   "outputs": [
    {
     "name": "stdout",
     "output_type": "stream",
     "text": [
      "Equal True\n"
     ]
    }
   ],
   "source": [
    "print('Equal' , x is not y)"
   ]
  },
  {
   "cell_type": "markdown",
   "id": "99f9e499-2db7-42d7-a405-5a961b276895",
   "metadata": {},
   "source": [
    "## Logical Operator"
   ]
  },
  {
   "cell_type": "code",
   "execution_count": 39,
   "id": "3b99ecb1-ee33-43de-b4b2-dfe68e9fb4e9",
   "metadata": {},
   "outputs": [
    {
     "name": "stdout",
     "output_type": "stream",
     "text": [
      "False\n",
      "True\n"
     ]
    }
   ],
   "source": [
    " f = True\n",
    "g = False\n",
    "print(f and g)\n",
    "print(f or g)"
   ]
  },
  {
   "cell_type": "code",
   "execution_count": 41,
   "id": "3acf987f-2b76-47c9-a8d8-e0a711abdbd6",
   "metadata": {},
   "outputs": [
    {
     "name": "stdout",
     "output_type": "stream",
     "text": [
      "False\n"
     ]
    }
   ],
   "source": [
    "print(not f)"
   ]
  },
  {
   "cell_type": "markdown",
   "id": "14eab558-78ed-46e6-9730-a32ef7f78bde",
   "metadata": {},
   "source": [
    "## Membership Operator"
   ]
  },
  {
   "cell_type": "code",
   "execution_count": 45,
   "id": "47be66fd-248b-4ccf-a56b-0e46b251c93b",
   "metadata": {},
   "outputs": [
    {
     "data": {
      "text/plain": [
       "False"
      ]
     },
     "execution_count": 45,
     "metadata": {},
     "output_type": "execute_result"
    }
   ],
   "source": [
    "a = 'Hello'\n",
    "'i' in a"
   ]
  },
  {
   "cell_type": "code",
   "execution_count": 51,
   "id": "0e4a1888-3799-4035-bda2-d1f8f269f1de",
   "metadata": {},
   "outputs": [
    {
     "data": {
      "text/plain": [
       "False"
      ]
     },
     "execution_count": 51,
     "metadata": {},
     "output_type": "execute_result"
    }
   ],
   "source": [
    "a = 'Hello'\n",
    "'O' in a #uppercase"
   ]
  },
  {
   "cell_type": "code",
   "execution_count": 49,
   "id": "7dc3a4b8-0bb4-49be-888f-2b5ae9cdd17e",
   "metadata": {},
   "outputs": [
    {
     "data": {
      "text/plain": [
       "True"
      ]
     },
     "execution_count": 49,
     "metadata": {},
     "output_type": "execute_result"
    }
   ],
   "source": [
    "a = 'Hello'\n",
    "'o' in a"
   ]
  },
  {
   "cell_type": "code",
   "execution_count": 53,
   "id": "bbd74560-0f02-4b66-b02d-4538c211a590",
   "metadata": {},
   "outputs": [
    {
     "data": {
      "text/plain": [
       "False"
      ]
     },
     "execution_count": 53,
     "metadata": {},
     "output_type": "execute_result"
    }
   ],
   "source": [
    "a = 'Hello'\n",
    "'o' not in a"
   ]
  },
  {
   "cell_type": "code",
   "execution_count": 55,
   "id": "b55f7512-3955-4129-859b-dd30fc9f8955",
   "metadata": {},
   "outputs": [
    {
     "data": {
      "text/plain": [
       "False"
      ]
     },
     "execution_count": 55,
     "metadata": {},
     "output_type": "execute_result"
    }
   ],
   "source": [
    "e = ' I love Mutton'\n",
    "'love' not in e"
   ]
  },
  {
   "cell_type": "code",
   "execution_count": 57,
   "id": "3ecc63cf-b9cb-4cea-a82a-2e0f07e71d30",
   "metadata": {},
   "outputs": [
    {
     "data": {
      "text/plain": [
       "True"
      ]
     },
     "execution_count": 57,
     "metadata": {},
     "output_type": "execute_result"
    }
   ],
   "source": [
    "e = ' I love Mutton'\n",
    "'love' in e"
   ]
  },
  {
   "cell_type": "markdown",
   "id": "a632c14e-5f60-4755-8517-15bfa7cebe6f",
   "metadata": {},
   "source": [
    "## if/else"
   ]
  },
  {
   "cell_type": "code",
   "execution_count": 61,
   "id": "bea9effc-77da-43ab-a19c-2966400db731",
   "metadata": {},
   "outputs": [
    {
     "name": "stdout",
     "output_type": "stream",
     "text": [
      "t is not greater\n"
     ]
    }
   ],
   "source": [
    "t = 5\n",
    "u= 10\n",
    "if t>y:\n",
    "    print('t is greater')\n",
    "else:\n",
    "    print('t is not greater')"
   ]
  },
  {
   "cell_type": "code",
   "execution_count": 69,
   "id": "045f1364-1bff-4023-adc2-37bc53ce89c7",
   "metadata": {},
   "outputs": [
    {
     "name": "stdout",
     "output_type": "stream",
     "text": [
      "2nd elif\n"
     ]
    }
   ],
   "source": [
    "#Ladder\n",
    "t = 5\n",
    "u= 10\n",
    "if t>y:\n",
    "    print('t is greater')\n",
    "elif t==y:\n",
    "    print('t is equal to y')\n",
    "elif t!=y:\n",
    "    print('2nd elif')\n",
    "else:\n",
    "    print('t is smaller')"
   ]
  },
  {
   "cell_type": "code",
   "execution_count": 75,
   "id": "85522d22-b70f-403d-9053-a058af191bc9",
   "metadata": {},
   "outputs": [
    {
     "name": "stdout",
     "output_type": "stream",
     "text": [
      "odd\n"
     ]
    }
   ],
   "source": [
    "p = 5\n",
    "if p%2 ==0:\n",
    "    print('even number')\n",
    "else:\n",
    "    print('odd')"
   ]
  },
  {
   "cell_type": "markdown",
   "id": "64d79299-0b34-4dd6-9932-63df236d7192",
   "metadata": {},
   "source": [
    "## Exercise"
   ]
  },
  {
   "cell_type": "markdown",
   "id": "233a556e-98b0-4d34-8be9-161d2dad2b6c",
   "metadata": {},
   "source": [
    "## 01"
   ]
  },
  {
   "cell_type": "code",
   "execution_count": 89,
   "id": "e93e427c-955a-4736-9150-4a89d4a87d73",
   "metadata": {},
   "outputs": [
    {
     "name": "stdin",
     "output_type": "stream",
     "text": [
      " 30\n"
     ]
    },
    {
     "name": "stdout",
     "output_type": "stream",
     "text": [
      "300.0\n"
     ]
    }
   ],
   "source": [
    "h = float(input())\n",
    "rate= 10 \n",
    "if h<=40:\n",
    "    pay = h*rate\n",
    "    print(pay)\n",
    "elif h>=40:\n",
    "    pay = (40*10)+((h-40)*1.5*rate)\n",
    "    print(pay)"
   ]
  },
  {
   "cell_type": "markdown",
   "id": "49e6b388-22f9-4d56-82ca-5b504d447cd9",
   "metadata": {},
   "source": [
    "## 02"
   ]
  },
  {
   "cell_type": "code",
   "execution_count": 100,
   "id": "d9b6bbfe-7cce-4ded-9e52-afdb373f2cea",
   "metadata": {},
   "outputs": [
    {
     "name": "stdin",
     "output_type": "stream",
     "text": [
      "Input your salary 6666\n",
      "What's your total service year? 6\n"
     ]
    },
    {
     "data": {
      "text/plain": [
       "6999.3"
      ]
     },
     "execution_count": 100,
     "metadata": {},
     "output_type": "execute_result"
    }
   ],
   "source": [
    "salary = float(input('Input your salary'))\n",
    "year = float(input(\"What's your total service year?\"))\n",
    "if year>= 5:\n",
    "    evaluated_salary = salary +(salary*5/100)\n",
    "else:\n",
    "    evaluated_salary = salary\n",
    "print(\"evaluated_salary"
   ]
  },
  {
   "cell_type": "code",
   "execution_count": null,
   "id": "d3185033-304d-468d-8e4a-bd74dd25c7ff",
   "metadata": {},
   "outputs": [],
   "source": []
  }
 ],
 "metadata": {
  "kernelspec": {
   "display_name": "Python 3 (ipykernel)",
   "language": "python",
   "name": "python3"
  },
  "language_info": {
   "codemirror_mode": {
    "name": "ipython",
    "version": 3
   },
   "file_extension": ".py",
   "mimetype": "text/x-python",
   "name": "python",
   "nbconvert_exporter": "python",
   "pygments_lexer": "ipython3",
   "version": "3.12.4"
  }
 },
 "nbformat": 4,
 "nbformat_minor": 5
}
