{
 "cells": [
  {
   "cell_type": "markdown",
   "metadata": {
    "id": "PZa1qNm4npAc"
   },
   "source": [
    "### String Input"
   ]
  },
  {
   "cell_type": "code",
   "execution_count": 1,
   "metadata": {
    "colab": {
     "base_uri": "https://localhost:8080/"
    },
    "id": "UhujDSt1nfpC",
    "outputId": "b56e3a5d-414c-4421-85be-a5712d4e3975"
   },
   "outputs": [
    {
     "name": "stdin",
     "output_type": "stream",
     "text": [
      "Enter your name: Aniruddha Sarkar\n"
     ]
    },
    {
     "name": "stdout",
     "output_type": "stream",
     "text": [
      "Aniruddha Sarkar\n"
     ]
    }
   ],
   "source": [
    "name = input(\"Enter your name:\")\n",
    "print(name)"
   ]
  },
  {
   "cell_type": "code",
   "execution_count": 6,
   "metadata": {
    "colab": {
     "base_uri": "https://localhost:8080/"
    },
    "id": "9DNX6GSNn5CT",
    "outputId": "6aa06548-5e26-43ee-b610-8080a4d64eee"
   },
   "outputs": [
    {
     "data": {
      "text/plain": [
       "str"
      ]
     },
     "execution_count": 6,
     "metadata": {},
     "output_type": "execute_result"
    }
   ],
   "source": [
    "type(name)"
   ]
  },
  {
   "cell_type": "code",
   "execution_count": 2,
   "metadata": {
    "colab": {
     "base_uri": "https://localhost:8080/"
    },
    "id": "AGx_pgJzoL2p",
    "outputId": "5c112e12-e1bc-4d47-fe2a-4d5f15193f9f"
   },
   "outputs": [
    {
     "name": "stdin",
     "output_type": "stream",
     "text": [
      "Enter the year:  2024\n"
     ]
    },
    {
     "name": "stdout",
     "output_type": "stream",
     "text": [
      "2024\n"
     ]
    }
   ],
   "source": [
    "year = input(\"Enter the year: \")\n",
    "print(year)"
   ]
  },
  {
   "cell_type": "code",
   "execution_count": 8,
   "metadata": {
    "colab": {
     "base_uri": "https://localhost:8080/"
    },
    "id": "6-0JvaIwoN2Y",
    "outputId": "9d21e481-195f-4e7f-cb6d-65d90c6c10f7"
   },
   "outputs": [
    {
     "data": {
      "text/plain": [
       "str"
      ]
     },
     "execution_count": 8,
     "metadata": {},
     "output_type": "execute_result"
    }
   ],
   "source": [
    "type(year)"
   ]
  },
  {
   "cell_type": "code",
   "execution_count": 9,
   "metadata": {
    "id": "BaHD7OIzp7N0"
   },
   "outputs": [],
   "source": [
    "int_year = int(year)"
   ]
  },
  {
   "cell_type": "code",
   "execution_count": 10,
   "metadata": {
    "colab": {
     "base_uri": "https://localhost:8080/"
    },
    "id": "Z-eTD3fop7KD",
    "outputId": "4ac4ea0b-63b1-4b1e-a8cc-309711afffec"
   },
   "outputs": [
    {
     "data": {
      "text/plain": [
       "int"
      ]
     },
     "execution_count": 10,
     "metadata": {},
     "output_type": "execute_result"
    }
   ],
   "source": [
    "type(int_year)"
   ]
  },
  {
   "cell_type": "code",
   "execution_count": 11,
   "metadata": {
    "colab": {
     "base_uri": "https://localhost:8080/"
    },
    "id": "7dIMkU6oqK21",
    "outputId": "e80eb8b8-c5a0-4cdc-9af3-bc14834a071c"
   },
   "outputs": [
    {
     "name": "stdout",
     "output_type": "stream",
     "text": [
      "2024\n"
     ]
    }
   ],
   "source": [
    "print(int_year)"
   ]
  },
  {
   "cell_type": "markdown",
   "metadata": {
    "id": "gAY6txxJqsd-"
   },
   "source": [
    "### Variable Type Casting"
   ]
  },
  {
   "cell_type": "markdown",
   "metadata": {
    "id": "aQ_v-QUOoB0C"
   },
   "source": [
    "### We should do casting to make the string to our desired data type"
   ]
  },
  {
   "cell_type": "code",
   "execution_count": 12,
   "metadata": {
    "colab": {
     "base_uri": "https://localhost:8080/"
    },
    "id": "pL5ccpvwoBW5",
    "outputId": "beb06265-3254-4b41-9e98-7f17f2c23332"
   },
   "outputs": [
    {
     "name": "stdout",
     "output_type": "stream",
     "text": [
      "Enter the value of PI: 3.24\n",
      "3.24\n",
      "<class 'str'>\n"
     ]
    }
   ],
   "source": [
    "pi = input(\"Enter the value of PI: \")\n",
    "print(pi)\n",
    "print(type(pi))"
   ]
  },
  {
   "cell_type": "code",
   "execution_count": 13,
   "metadata": {
    "colab": {
     "base_uri": "https://localhost:8080/"
    },
    "id": "FSZToG08nfjJ",
    "outputId": "7cd14b7b-9730-4229-ba39-a62780c69cdd"
   },
   "outputs": [
    {
     "name": "stdout",
     "output_type": "stream",
     "text": [
      "3.24\n",
      "<class 'float'>\n"
     ]
    }
   ],
   "source": [
    "pi = float(pi)\n",
    "print(pi)\n",
    "print(type(pi))"
   ]
  },
  {
   "cell_type": "markdown",
   "metadata": {
    "id": "f7f73416-dc87-4aa9-9400-de5b526ecb00"
   },
   "source": [
    "# Python Strings"
   ]
  },
  {
   "cell_type": "markdown",
   "metadata": {
    "id": "eb54895d-2f4d-4c42-b859-ec4e9f593bb4"
   },
   "source": [
    "### Multiline Strings"
   ]
  },
  {
   "cell_type": "markdown",
   "metadata": {
    "id": "551ea983-0d24-46db-8527-979c8617f073"
   },
   "source": [
    "### String <> Array"
   ]
  },
  {
   "cell_type": "code",
   "execution_count": 31,
   "metadata": {
    "id": "ef535215-b42a-4944-a164-945de1b24f50"
   },
   "outputs": [],
   "source": [
    "string = \"Today in the Python class we are learning abour string\""
   ]
  },
  {
   "cell_type": "code",
   "execution_count": 38,
   "metadata": {
    "colab": {
     "base_uri": "https://localhost:8080/"
    },
    "id": "08e35375-4676-49ac-9921-aae96487a4a0",
    "outputId": "5679aad8-cef2-4ea4-b5ad-79589f44a103"
   },
   "outputs": [
    {
     "name": "stdout",
     "output_type": "stream",
     "text": [
      "g\n"
     ]
    }
   ],
   "source": [
    "print(string[53])"
   ]
  },
  {
   "cell_type": "code",
   "execution_count": 34,
   "metadata": {
    "colab": {
     "base_uri": "https://localhost:8080/"
    },
    "id": "0e88d363-46f3-4061-977b-9223a2379ad5",
    "outputId": "0fe505d9-be1d-4577-c5d3-fa3ab5576f2e"
   },
   "outputs": [
    {
     "data": {
      "text/plain": [
       "54"
      ]
     },
     "execution_count": 34,
     "metadata": {},
     "output_type": "execute_result"
    }
   ],
   "source": [
    "len(string)"
   ]
  },
  {
   "cell_type": "code",
   "execution_count": 1,
   "metadata": {
    "colab": {
     "base_uri": "https://localhost:8080/"
    },
    "id": "3e944765-4906-4bf5-b7aa-270ebabd8360",
    "outputId": "f73377b2-fd13-49b0-d26a-0b77bd7b3a02"
   },
   "outputs": [
    {
     "name": "stdout",
     "output_type": "stream",
     "text": [
      "A\n",
      "n\n",
      "i\n",
      "r\n",
      "u\n",
      "d\n",
      "d\n",
      "h\n",
      "a\n",
      " \n",
      "S\n",
      "a\n",
      "r\n",
      "k\n",
      "a\n",
      "r\n"
     ]
    }
   ],
   "source": [
    "name = \"Aniruddha Sarkar\"\n",
    "\n",
    "for i in range(len(name)):\n",
    "  print(name[i])"
   ]
  },
  {
   "cell_type": "code",
   "execution_count": 42,
   "metadata": {
    "colab": {
     "base_uri": "https://localhost:8080/"
    },
    "id": "b1ee5008-8b3d-4640-875c-e3e125fc2912",
    "outputId": "fdf7bba8-d8e1-44a5-daa0-716609b68b4e"
   },
   "outputs": [
    {
     "name": "stdout",
     "output_type": "stream",
     "text": [
      "Ford\n",
      "Audi\n",
      "Tesla\n"
     ]
    }
   ],
   "source": [
    "carlist = [\"Ford\", \"Audi\", \"Tesla\"]\n",
    "\n",
    "for i in range(len(carlist)):\n",
    "  print(carlist[i])"
   ]
  },
  {
   "cell_type": "code",
   "execution_count": 45,
   "metadata": {
    "colab": {
     "base_uri": "https://localhost:8080/"
    },
    "id": "kSlT-UboxKOm",
    "outputId": "102ae7d9-3748-45f0-94ac-539a617509b6"
   },
   "outputs": [
    {
     "name": "stdout",
     "output_type": "stream",
     "text": [
      "Ford\n",
      "Audi\n",
      "Tesla\n"
     ]
    }
   ],
   "source": [
    "carlist = [\"Ford\", \"Audi\", \"Tesla\"]\n",
    "\n",
    "for car in carlist:\n",
    "  print(car)"
   ]
  },
  {
   "cell_type": "markdown",
   "metadata": {
    "id": "604ebd62-d2f2-4ab8-9e3f-11e11d8a49fb"
   },
   "source": [
    "### Slicing Strings"
   ]
  },
  {
   "cell_type": "code",
   "execution_count": null,
   "metadata": {
    "id": "9ec1eba8-261e-495c-9efc-aa307fa9e073"
   },
   "outputs": [],
   "source": [
    "string = \"Today in the Python class we are learning about string\""
   ]
  },
  {
   "cell_type": "code",
   "execution_count": 46,
   "metadata": {
    "colab": {
     "base_uri": "https://localhost:8080/"
    },
    "id": "b0572684-e5ac-40ac-ac5e-5bbeba232cc3",
    "outputId": "dacfa1e8-5e98-4fba-9e15-8da4992ea20a"
   },
   "outputs": [
    {
     "name": "stdout",
     "output_type": "stream",
     "text": [
      "he Python class we are learning abour string\n"
     ]
    }
   ],
   "source": [
    "print(string[10:])"
   ]
  },
  {
   "cell_type": "code",
   "execution_count": 47,
   "metadata": {
    "colab": {
     "base_uri": "https://localhost:8080/"
    },
    "id": "4c867023-a945-478a-a67a-68a86d9955a9",
    "outputId": "3c6720aa-1eb2-4692-e109-6cf3f358a1ad"
   },
   "outputs": [
    {
     "name": "stdout",
     "output_type": "stream",
     "text": [
      "Today\n"
     ]
    }
   ],
   "source": [
    "print(string[:5])"
   ]
  },
  {
   "cell_type": "code",
   "execution_count": 48,
   "metadata": {
    "colab": {
     "base_uri": "https://localhost:8080/"
    },
    "id": "5691f18b-345a-4026-86a1-b16deda4fa46",
    "outputId": "fa2dae32-adc0-41c7-e491-a58ca5e91667"
   },
   "outputs": [
    {
     "name": "stdout",
     "output_type": "stream",
     "text": [
      "he Python \n"
     ]
    }
   ],
   "source": [
    "print(string[10:20])"
   ]
  },
  {
   "cell_type": "markdown",
   "metadata": {
    "id": "4ddc3298-d419-44e6-8db7-80f1c8d63193"
   },
   "source": [
    "### Modify Strings"
   ]
  },
  {
   "cell_type": "code",
   "execution_count": 50,
   "metadata": {
    "id": "79831577-825f-4372-9af9-9f8103cef906"
   },
   "outputs": [],
   "source": [
    "string = \"Hello World\""
   ]
  },
  {
   "cell_type": "code",
   "execution_count": 51,
   "metadata": {
    "colab": {
     "base_uri": "https://localhost:8080/"
    },
    "id": "70275877-4ca1-46e9-93b5-ef1c4aaefd13",
    "outputId": "651676bd-2feb-4b06-b966-3b119e2934c1"
   },
   "outputs": [
    {
     "name": "stdout",
     "output_type": "stream",
     "text": [
      "HELLO WORLD\n"
     ]
    }
   ],
   "source": [
    "print(string.upper())"
   ]
  },
  {
   "cell_type": "code",
   "execution_count": 52,
   "metadata": {
    "colab": {
     "base_uri": "https://localhost:8080/"
    },
    "id": "ddc49ee4-3044-49c1-bf6b-4641b0323971",
    "outputId": "5b9bd0eb-2916-4311-9f17-c725b114d07c"
   },
   "outputs": [
    {
     "name": "stdout",
     "output_type": "stream",
     "text": [
      "hello world\n"
     ]
    }
   ],
   "source": [
    "print(string.lower())"
   ]
  },
  {
   "cell_type": "markdown",
   "metadata": {
    "id": "bb2f48da-5816-43fa-adec-d75416a167cb"
   },
   "source": [
    "### Concat Strings"
   ]
  },
  {
   "cell_type": "code",
   "execution_count": 54,
   "metadata": {
    "colab": {
     "base_uri": "https://localhost:8080/"
    },
    "id": "8f0f0f97-77e5-413d-a91b-cb7f65fe8d85",
    "outputId": "0130e36c-5453-4aec-8043-adbf7253929c"
   },
   "outputs": [
    {
     "name": "stdout",
     "output_type": "stream",
     "text": [
      "Hello World\n"
     ]
    }
   ],
   "source": [
    "a = \"Hello\"\n",
    "b = \"World\"\n",
    "\n",
    "c = a + \" \" + b\n",
    "print(c)"
   ]
  },
  {
   "cell_type": "code",
   "execution_count": 55,
   "metadata": {
    "colab": {
     "base_uri": "https://localhost:8080/"
    },
    "id": "b3de4453-3d6b-49b7-ac39-5407d2265f25",
    "outputId": "61b73ee1-36dd-4100-ab8d-5f5b28321459"
   },
   "outputs": [
    {
     "name": "stdout",
     "output_type": "stream",
     "text": [
      "Asif Iqbal\n"
     ]
    }
   ],
   "source": [
    "Firstname = \"Asif\"\n",
    "Lastname = \"Iqbal\"\n",
    "\n",
    "Fullname = Firstname + \" \" + Lastname\n",
    "print(Fullname)"
   ]
  },
  {
   "cell_type": "code",
   "execution_count": 2,
   "metadata": {
    "colab": {
     "base_uri": "https://localhost:8080/"
    },
    "id": "759d6db6-ec74-4abb-80fd-0c6996b09c24",
    "outputId": "1f1f6bc2-70f8-40e6-b103-3d804b5fbbb2"
   },
   "outputs": [
    {
     "name": "stdout",
     "output_type": "stream",
     "text": [
      "Aniruddha Sarkar\n"
     ]
    }
   ],
   "source": [
    "Firstname = \"Aniruddha\"\n",
    "Lastname = \"Sarkar\"\n",
    "\n",
    "Fullname = \" \".join([Firstname, Lastname])\n",
    "print(Fullname)"
   ]
  },
  {
   "cell_type": "markdown",
   "metadata": {
    "id": "f03bf636-8b45-4715-90e1-186ffb77e9b1"
   },
   "source": [
    "### Escape Characters"
   ]
  },
  {
   "cell_type": "code",
   "execution_count": 60,
   "metadata": {
    "colab": {
     "base_uri": "https://localhost:8080/"
    },
    "id": "34421398-6f0d-4737-8778-94b6e5765dd1",
    "outputId": "3337a05d-1cee-4bad-844f-7a3ebc30c450"
   },
   "outputs": [
    {
     "name": "stdout",
     "output_type": "stream",
     "text": [
      "Don't tell a lie\n"
     ]
    }
   ],
   "source": [
    "statement = \"Don't tell a lie\"\n",
    "print(statement)"
   ]
  },
  {
   "cell_type": "code",
   "execution_count": 62,
   "metadata": {
    "colab": {
     "base_uri": "https://localhost:8080/"
    },
    "id": "b1bf0941-f222-4874-8ab9-0691d6322074",
    "outputId": "202afa66-b57b-4203-db18-53c55e2ee8a2"
   },
   "outputs": [
    {
     "name": "stdout",
     "output_type": "stream",
     "text": [
      "Don't tell a lie\n"
     ]
    }
   ],
   "source": [
    "statement = 'Don\\'t tell a lie'\n",
    "print(statement)"
   ]
  },
  {
   "cell_type": "code",
   "execution_count": 66,
   "metadata": {
    "colab": {
     "base_uri": "https://localhost:8080/"
    },
    "id": "3b210acf-a436-4708-aadb-6eb1a68ec441",
    "outputId": "b514908c-33bf-4ff9-85f5-26bb4c49d8d2"
   },
   "outputs": [
    {
     "name": "stdout",
     "output_type": "stream",
     "text": [
      "The \\n is used for new line\n"
     ]
    }
   ],
   "source": [
    "statement = \"The \\\\n is used for new line\"\n",
    "print(statement)"
   ]
  },
  {
   "cell_type": "code",
   "execution_count": 67,
   "metadata": {
    "colab": {
     "base_uri": "https://localhost:8080/"
    },
    "id": "7Px_plcO2J2-",
    "outputId": "6a1c0c6a-4e8b-42cd-8825-a6d5fb5892c8"
   },
   "outputs": [
    {
     "name": "stdout",
     "output_type": "stream",
     "text": [
      "The \n",
      " is used for new line\n"
     ]
    }
   ],
   "source": [
    "statement = \"The \\n is used for new line\"\n",
    "print(statement)"
   ]
  },
  {
   "cell_type": "code",
   "execution_count": 69,
   "metadata": {
    "colab": {
     "base_uri": "https://localhost:8080/"
    },
    "id": "ppCRJ0Zg2Jxw",
    "outputId": "d6d91372-0fd5-428a-b35b-28c3a8498ad6"
   },
   "outputs": [
    {
     "name": "stdout",
     "output_type": "stream",
     "text": [
      "Name \t Asif Iqbal\n"
     ]
    }
   ],
   "source": [
    "statement = \"Name \\t Aniruddha Sarkar\"\n",
    "print(statement)"
   ]
  },
  {
   "cell_type": "markdown",
   "metadata": {
    "id": "OH3muTNLo2sU"
   },
   "source": [
    "### String Built-in Functions"
   ]
  },
  {
   "cell_type": "code",
   "execution_count": 73,
   "metadata": {
    "colab": {
     "base_uri": "https://localhost:8080/"
    },
    "id": "TKGlzeZG4m_e",
    "outputId": "3201423f-e34f-41d6-b418-d0902ac5666c"
   },
   "outputs": [
    {
     "name": "stdout",
     "output_type": "stream",
     "text": [
      "True\n"
     ]
    }
   ],
   "source": [
    "string = \"HELLO WORLD\"\n",
    "\n",
    "print(string.isupper())"
   ]
  },
  {
   "cell_type": "code",
   "execution_count": 76,
   "metadata": {
    "colab": {
     "base_uri": "https://localhost:8080/"
    },
    "id": "PcHhsXBN4wGP",
    "outputId": "b5c43b8d-98ea-4f17-dabf-947fe7e35cfa"
   },
   "outputs": [
    {
     "name": "stdout",
     "output_type": "stream",
     "text": [
      "True\n"
     ]
    }
   ],
   "source": [
    "string = \"hello world\"\n",
    "\n",
    "print(string.islower())"
   ]
  },
  {
   "cell_type": "code",
   "execution_count": 70,
   "metadata": {
    "colab": {
     "base_uri": "https://localhost:8080/"
    },
    "id": "755fa39d-beb9-4b32-beae-b5c9fb79b96e",
    "outputId": "b9e24a1f-b123-4e09-979f-dd6f5199650d"
   },
   "outputs": [
    {
     "name": "stdout",
     "output_type": "stream",
     "text": [
      "HELLO WORLD\n"
     ]
    }
   ],
   "source": [
    "string = \"Hello World\"\n",
    "\n",
    "print(string.upper())"
   ]
  },
  {
   "cell_type": "code",
   "execution_count": 77,
   "metadata": {
    "colab": {
     "base_uri": "https://localhost:8080/"
    },
    "id": "zjauBNqvqbVb",
    "outputId": "e90a0cd7-4b82-4441-b149-7fc401c7eea7"
   },
   "outputs": [
    {
     "name": "stdout",
     "output_type": "stream",
     "text": [
      "hello world\n"
     ]
    }
   ],
   "source": [
    "string = \"Hello World\"\n",
    "\n",
    "print(string.lower())"
   ]
  },
  {
   "cell_type": "code",
   "execution_count": 3,
   "metadata": {
    "colab": {
     "base_uri": "https://localhost:8080/"
    },
    "id": "ueVn5_9-pADk",
    "outputId": "7a2fa78f-6eee-4a9a-ac04-2550a64c5b02"
   },
   "outputs": [
    {
     "name": "stdout",
     "output_type": "stream",
     "text": [
      "Aniruddha sarkar\n"
     ]
    }
   ],
   "source": [
    "string = \"Aniruddha Sarkar\"\n",
    "\n",
    "print(string.capitalize())"
   ]
  },
  {
   "cell_type": "code",
   "execution_count": 79,
   "metadata": {
    "colab": {
     "base_uri": "https://localhost:8080/"
    },
    "id": "i3HGJ3bmqXvA",
    "outputId": "86f03ca1-0fdf-4320-8340-0f33ed1f5d8e"
   },
   "outputs": [
    {
     "name": "stdout",
     "output_type": "stream",
     "text": [
      "Hello World       \n"
     ]
    }
   ],
   "source": [
    "string = \"    Hello World       \"\n",
    "\n",
    "print(string.lstrip())"
   ]
  },
  {
   "cell_type": "code",
   "execution_count": 80,
   "metadata": {
    "colab": {
     "base_uri": "https://localhost:8080/"
    },
    "id": "OYLMjUQqpglM",
    "outputId": "66989411-ab0c-47de-e821-b9b1b687723e"
   },
   "outputs": [
    {
     "name": "stdout",
     "output_type": "stream",
     "text": [
      "    Hello World\n"
     ]
    }
   ],
   "source": [
    "string = \"    Hello World       \"\n",
    "\n",
    "print(string.rstrip())"
   ]
  },
  {
   "cell_type": "code",
   "execution_count": 81,
   "metadata": {
    "colab": {
     "base_uri": "https://localhost:8080/"
    },
    "id": "SCmJMJF3rA2Q",
    "outputId": "b8b91937-c924-4a46-ad45-94814d8b8f46"
   },
   "outputs": [
    {
     "name": "stdout",
     "output_type": "stream",
     "text": [
      "Hello World\n"
     ]
    }
   ],
   "source": [
    "string = \"    Hello World       \"\n",
    "\n",
    "print(string.strip())"
   ]
  },
  {
   "cell_type": "code",
   "execution_count": 86,
   "metadata": {
    "colab": {
     "base_uri": "https://localhost:8080/"
    },
    "id": "wSN7dBqjrHDv",
    "outputId": "212281fd-08fe-4454-ae24-e8829c6f8b94"
   },
   "outputs": [
    {
     "name": "stdout",
     "output_type": "stream",
     "text": [
      "Hello World\n"
     ]
    }
   ],
   "source": [
    "string = \"...Hello World.@.\"\n",
    "\n",
    "print(string.strip(\".@\"))"
   ]
  },
  {
   "cell_type": "code",
   "execution_count": 109,
   "metadata": {
    "colab": {
     "base_uri": "https://localhost:8080/"
    },
    "id": "w6JJN5n1rNkQ",
    "outputId": "cb86c4f8-1138-48b0-eb25-81565ef562e8"
   },
   "outputs": [
    {
     "name": "stdout",
     "output_type": "stream",
     "text": [
      "2\n"
     ]
    }
   ],
   "source": [
    "string = \"Today in the Python class we are learning about string. Python is a programming language.\"\n",
    "\n",
    "print(string.count(\"Python\"))"
   ]
  },
  {
   "cell_type": "code",
   "execution_count": 89,
   "metadata": {
    "colab": {
     "base_uri": "https://localhost:8080/"
    },
    "id": "XzFfP6q2pjyQ",
    "outputId": "70cc3b24-51d4-4257-d325-799a798c1df5"
   },
   "outputs": [
    {
     "name": "stdout",
     "output_type": "stream",
     "text": [
      "13\n"
     ]
    }
   ],
   "source": [
    "string = \"Today in the Python class we are learning about string. Python is a programming language.\"\n",
    "\n",
    "print(string.find(\"Python\"))"
   ]
  },
  {
   "cell_type": "code",
   "execution_count": 94,
   "metadata": {
    "colab": {
     "base_uri": "https://localhost:8080/"
    },
    "id": "BLKC5KnvqQ9p",
    "outputId": "d9ba5f13-d78f-4a1f-ddd1-f00f3c2492df"
   },
   "outputs": [
    {
     "name": "stdout",
     "output_type": "stream",
     "text": [
      "-1\n"
     ]
    }
   ],
   "source": [
    "print(string.find(\"Python\", 15, 50))"
   ]
  },
  {
   "cell_type": "code",
   "execution_count": 4,
   "metadata": {
    "colab": {
     "base_uri": "https://localhost:8080/"
    },
    "id": "Kl3MMw_o8WA3",
    "outputId": "8e6a287d-ed2e-4747-bc62-6e0c82dac122"
   },
   "outputs": [
    {
     "name": "stdout",
     "output_type": "stream",
     "text": [
      "True\n"
     ]
    }
   ],
   "source": [
    "email = \"hello@gmail.com\"\n",
    "\n",
    "print(email.endswith(\"@gmail.com\"))"
   ]
  },
  {
   "cell_type": "code",
   "execution_count": null,
   "metadata": {
    "id": "fep9rOFI-MGf"
   },
   "outputs": [],
   "source": [
    "email = \"asif@yahoo.com\"\n",
    "\n",
    "print(email.endswith(\"@gmail.com\"))"
   ]
  },
  {
   "cell_type": "code",
   "execution_count": 111,
   "metadata": {
    "colab": {
     "base_uri": "https://localhost:8080/"
    },
    "id": "4TIms73N957Y",
    "outputId": "79ca50ee-d308-4956-f270-57bd7c3e4d53"
   },
   "outputs": [
    {
     "name": "stdout",
     "output_type": "stream",
     "text": [
      "True\n"
     ]
    }
   ],
   "source": [
    "StudentID = \"BDSET001\"\n",
    "\n",
    "print(StudentID.startswith(\"BDSET\"))"
   ]
  },
  {
   "cell_type": "code",
   "execution_count": 101,
   "metadata": {
    "colab": {
     "base_uri": "https://localhost:8080/"
    },
    "id": "F3qB_a-Dp8wQ",
    "outputId": "51495a34-0c88-4d0f-ff4f-42c65c81a682"
   },
   "outputs": [
    {
     "data": {
      "text/plain": [
       "['Asif', 'Iqbal']"
      ]
     },
     "execution_count": 101,
     "metadata": {},
     "output_type": "execute_result"
    }
   ],
   "source": [
    "name = \"Asif Iqbal\"\n",
    "\n",
    "name_list = name.split()\n",
    "name_list"
   ]
  },
  {
   "cell_type": "code",
   "execution_count": 103,
   "metadata": {
    "colab": {
     "base_uri": "https://localhost:8080/"
    },
    "id": "NHcPRDrjqK38",
    "outputId": "2d06a06a-1b88-47e9-8fd0-4b64ed7efb1d"
   },
   "outputs": [
    {
     "data": {
      "text/plain": [
       "['Asif', 'Iqbal']"
      ]
     },
     "execution_count": 103,
     "metadata": {},
     "output_type": "execute_result"
    }
   ],
   "source": [
    "name = \"Asif$Iqbal\"\n",
    "\n",
    "name_list = name.split(\"$\")\n",
    "name_list"
   ]
  },
  {
   "cell_type": "code",
   "execution_count": 106,
   "metadata": {
    "id": "DUd0NbdK9HY-"
   },
   "outputs": [],
   "source": [
    "name = \"Asif Iqbal\"\n",
    "\n",
    "firstname, lastname = name.split()"
   ]
  },
  {
   "cell_type": "code",
   "execution_count": 107,
   "metadata": {
    "colab": {
     "base_uri": "https://localhost:8080/"
    },
    "id": "ZYRD1iXi9HV3",
    "outputId": "9617914d-e833-4c7f-f584-8bc0faf93ee9"
   },
   "outputs": [
    {
     "name": "stdout",
     "output_type": "stream",
     "text": [
      "Asif\n",
      "Iqbal\n"
     ]
    }
   ],
   "source": [
    "print(firstname)\n",
    "print(lastname)"
   ]
  },
  {
   "cell_type": "code",
   "execution_count": null,
   "metadata": {
    "id": "FiP3hiLx9HS3"
   },
   "outputs": [],
   "source": []
  },
  {
   "cell_type": "markdown",
   "metadata": {
    "id": "ad1a96fe-7fa9-466d-9e60-1a65b4bca2fb"
   },
   "source": [
    "# Functions\n",
    "### A function is a block of code that performs a specific task."
   ]
  },
  {
   "cell_type": "code",
   "execution_count": 112,
   "metadata": {
    "colab": {
     "base_uri": "https://localhost:8080/"
    },
    "id": "905f8ccd-6ede-4713-a97e-4ef2c4af55ae",
    "outputId": "1eb069ee-47c7-4b66-f4ce-db8c470d8aa1"
   },
   "outputs": [
    {
     "name": "stdout",
     "output_type": "stream",
     "text": [
      "2.23606797749979\n"
     ]
    }
   ],
   "source": [
    "x1 = 5\n",
    "x2 = 7\n",
    "y1 = 4\n",
    "y2 = 3\n",
    "\n",
    "distance = ((x1-x2)**2 + (y1-y2)**2 )**.5\n",
    "print(distance)"
   ]
  },
  {
   "cell_type": "code",
   "execution_count": 113,
   "metadata": {
    "colab": {
     "base_uri": "https://localhost:8080/"
    },
    "id": "e4b8b42f-0b31-4dd4-bed2-2a0af9c475af",
    "outputId": "b44f9465-eb4c-4e14-c171-7ad83a5cfac1"
   },
   "outputs": [
    {
     "name": "stdout",
     "output_type": "stream",
     "text": [
      "5.0\n"
     ]
    }
   ],
   "source": [
    "a1 = 6\n",
    "a2 = 9\n",
    "b1 = 10\n",
    "b2 = 14\n",
    "\n",
    "distance2 = ((a1-a2)**2 + (b1-b2)**2 )**.5\n",
    "print(distance2)"
   ]
  },
  {
   "cell_type": "code",
   "execution_count": 115,
   "metadata": {
    "id": "c7b69fe2-c091-4d8b-9bd7-c7e634b083a5"
   },
   "outputs": [],
   "source": [
    "#### Other Version\n",
    "# def dist(x1, x2, y1, y2):\n",
    "#   distance = ((x1-x2)**2 + (y1-y2)**2 )**.5\n",
    "#   print(distance)\n",
    "\n",
    "def dist(x1, x2, y1, y2):\n",
    "  distance = ((x1-x2)**2 + (y1-y2)**2 )**.5\n",
    "  return distance"
   ]
  },
  {
   "cell_type": "code",
   "execution_count": 116,
   "metadata": {
    "colab": {
     "base_uri": "https://localhost:8080/"
    },
    "id": "e7954126-bace-4f42-8f1f-2372714d217b",
    "outputId": "fd3293a4-2689-4a6f-94c6-975bb1d3812d"
   },
   "outputs": [
    {
     "name": "stdout",
     "output_type": "stream",
     "text": [
      "5.0\n"
     ]
    }
   ],
   "source": [
    "a1 = 6\n",
    "a2 = 9\n",
    "b1 = 10\n",
    "b2 = 14\n",
    "\n",
    "distance = dist(a1, a2, b1, b2)\n",
    "print(distance)"
   ]
  },
  {
   "cell_type": "code",
   "execution_count": 117,
   "metadata": {
    "colab": {
     "base_uri": "https://localhost:8080/"
    },
    "id": "NAK-1Q9lBElR",
    "outputId": "02a514f6-4648-49ab-89e1-d95e84c1a492"
   },
   "outputs": [
    {
     "name": "stdout",
     "output_type": "stream",
     "text": [
      "5.656854249492381\n"
     ]
    }
   ],
   "source": [
    "p1 = 2\n",
    "p2 = 6\n",
    "q1 = 18\n",
    "q2 = 14\n",
    "\n",
    "distance = dist(p1, p2, q1, q2)\n",
    "print(distance)"
   ]
  },
  {
   "cell_type": "code",
   "execution_count": 119,
   "metadata": {
    "id": "Y1SNYYrsDA_c"
   },
   "outputs": [],
   "source": [
    "def print_today(date, month, year):\n",
    "  print(f'Today is {date}th {month}, {year}')"
   ]
  },
  {
   "cell_type": "code",
   "execution_count": 121,
   "metadata": {
    "colab": {
     "base_uri": "https://localhost:8080/"
    },
    "id": "aFwqiTAcDA10",
    "outputId": "c8984592-c3d4-4072-c0c7-1f57549f6cd8"
   },
   "outputs": [
    {
     "name": "stdout",
     "output_type": "stream",
     "text": [
      "Today is 15th July, 2024\n"
     ]
    }
   ],
   "source": [
    "print_today(15, \"July\", 2024)"
   ]
  },
  {
   "cell_type": "markdown",
   "metadata": {
    "id": "1cc94a19-2681-42e9-a154-3d693991aede"
   },
   "source": [
    "### Two things to remember, Parameter and Argument\n",
    "Parameters are the variables listed inside the parentheses in the function definition. They act like placeholders for the data the function can accept when we call them.\n",
    "Arguments are the actual values that we pass to the function when we call it."
   ]
  },
  {
   "cell_type": "code",
   "execution_count": 122,
   "metadata": {
    "id": "10124540-ab5c-4c53-988b-0be5f57a9b8a"
   },
   "outputs": [],
   "source": [
    "def dist(x1, x2, y1, y2):\n",
    "  distance = ((x1-x2)**2 + (y1-y2)**2 )**.5\n",
    "  return distance"
   ]
  },
  {
   "cell_type": "code",
   "execution_count": 123,
   "metadata": {
    "colab": {
     "base_uri": "https://localhost:8080/"
    },
    "id": "4695c585-380a-4291-94f0-e790d8bad228",
    "outputId": "fe5ec636-716f-4804-a6fe-ce7672c3698c"
   },
   "outputs": [
    {
     "name": "stdout",
     "output_type": "stream",
     "text": [
      "5.0\n"
     ]
    }
   ],
   "source": [
    "a1 = 6\n",
    "a2 = 9\n",
    "b1 = 10\n",
    "b2 = 14\n",
    "\n",
    "distance = dist(a1, a2, b1, b2)\n",
    "print(distance)"
   ]
  },
  {
   "cell_type": "code",
   "execution_count": 125,
   "metadata": {
    "colab": {
     "base_uri": "https://localhost:8080/"
    },
    "id": "48396f2e-e0ff-461b-8a36-fec35be7e861",
    "outputId": "6215b665-6245-49a8-8c5c-6ba3f78e915d"
   },
   "outputs": [
    {
     "name": "stdout",
     "output_type": "stream",
     "text": [
      "5.0\n"
     ]
    }
   ],
   "source": [
    "distance = dist(x1 = a1, y1 = b1, x2 = a2, y2 = b2)\n",
    "print(distance)"
   ]
  },
  {
   "cell_type": "code",
   "execution_count": 126,
   "metadata": {
    "colab": {
     "base_uri": "https://localhost:8080/"
    },
    "id": "vLp1uUIxEdys",
    "outputId": "2fb8d689-5bd0-4153-c3d9-99c84b754055"
   },
   "outputs": [
    {
     "name": "stdout",
     "output_type": "stream",
     "text": [
      "5.0\n"
     ]
    }
   ],
   "source": [
    "distance = dist(y2 = b2, x1 = a1, y1 = b1, x2 = a2)\n",
    "print(distance)"
   ]
  },
  {
   "cell_type": "markdown",
   "metadata": {
    "id": "8bRqQJnjF0uF"
   },
   "source": [
    "### Function with a pre-defined argument"
   ]
  },
  {
   "cell_type": "code",
   "execution_count": 133,
   "metadata": {
    "id": "N7_kDX5ZFxsO"
   },
   "outputs": [],
   "source": [
    "def print_city(city = \"Chittagong\"):\n",
    "  print(f\"We are in {city}\")"
   ]
  },
  {
   "cell_type": "code",
   "execution_count": 134,
   "metadata": {
    "colab": {
     "base_uri": "https://localhost:8080/"
    },
    "id": "yEzBhGIgGamm",
    "outputId": "64803637-8d98-4037-8f4f-e982ebee076e"
   },
   "outputs": [
    {
     "name": "stdout",
     "output_type": "stream",
     "text": [
      "We are in Chittagong\n"
     ]
    }
   ],
   "source": [
    "print_city()"
   ]
  },
  {
   "cell_type": "code",
   "execution_count": 135,
   "metadata": {
    "colab": {
     "base_uri": "https://localhost:8080/"
    },
    "id": "fcNDzfu-FxpQ",
    "outputId": "9fae9770-b235-47b4-c0db-6b03205b6028"
   },
   "outputs": [
    {
     "name": "stdout",
     "output_type": "stream",
     "text": [
      "We are in Dhaka\n"
     ]
    }
   ],
   "source": [
    "print_city(\"Dhaka\")"
   ]
  },
  {
   "cell_type": "code",
   "execution_count": 135,
   "metadata": {
    "id": "48yGHSuZFkKt"
   },
   "outputs": [],
   "source": []
  },
  {
   "cell_type": "code",
   "execution_count": null,
   "metadata": {
    "id": "U6upY9JUGMSg"
   },
   "outputs": [],
   "source": []
  }
 ],
 "metadata": {
  "colab": {
   "provenance": []
  },
  "kernelspec": {
   "display_name": "Python 3 (ipykernel)",
   "language": "python",
   "name": "python3"
  },
  "language_info": {
   "codemirror_mode": {
    "name": "ipython",
    "version": 3
   },
   "file_extension": ".py",
   "mimetype": "text/x-python",
   "name": "python",
   "nbconvert_exporter": "python",
   "pygments_lexer": "ipython3",
   "version": "3.11.7"
  }
 },
 "nbformat": 4,
 "nbformat_minor": 4
}
