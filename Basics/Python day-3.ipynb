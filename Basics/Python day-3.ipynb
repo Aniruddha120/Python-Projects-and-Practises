{
 "cells": [
  {
   "cell_type": "markdown",
   "id": "7688f89f-8bb9-4a06-8285-105bb909dcab",
   "metadata": {},
   "source": [
    "# Advanced Python Data Storing Technique"
   ]
  },
  {
   "cell_type": "markdown",
   "id": "e3913561-dc9f-4cb4-8a80-f5a026075c2f",
   "metadata": {},
   "source": [
    "list"
   ]
  },
  {
   "cell_type": "code",
   "execution_count": 1,
   "id": "6b38b8aa-a161-4d10-8af8-71c46bd810ae",
   "metadata": {},
   "outputs": [
    {
     "data": {
      "text/plain": [
       "[1, 2, 3, 4, 'car']"
      ]
     },
     "execution_count": 1,
     "metadata": {},
     "output_type": "execute_result"
    }
   ],
   "source": [
    "mylist = [1,2,3,4,\"car\"]\n",
    "mylist"
   ]
  },
  {
   "cell_type": "markdown",
   "id": "7eb8b006-cbf0-428a-bed6-8f6e20a47470",
   "metadata": {},
   "source": [
    "Print everything after index2"
   ]
  },
  {
   "cell_type": "markdown",
   "id": "426f13c2-d33b-4c04-b5da-5e59470d1745",
   "metadata": {},
   "source": [
    "## Slicing"
   ]
  },
  {
   "cell_type": "code",
   "execution_count": 2,
   "id": "d8e0d36b-6805-4342-9150-ca86e47d544d",
   "metadata": {},
   "outputs": [
    {
     "data": {
      "text/plain": [
       "'car'"
      ]
     },
     "execution_count": 2,
     "metadata": {},
     "output_type": "execute_result"
    }
   ],
   "source": [
    "mylist[4]"
   ]
  },
  {
   "cell_type": "code",
   "execution_count": 3,
   "id": "37a18861-716f-47f5-8853-9fea6e386199",
   "metadata": {},
   "outputs": [
    {
     "data": {
      "text/plain": [
       "[3, 4, 'car']"
      ]
     },
     "execution_count": 3,
     "metadata": {},
     "output_type": "execute_result"
    }
   ],
   "source": [
    "mylist[2:]"
   ]
  },
  {
   "cell_type": "code",
   "execution_count": 4,
   "id": "52ed6ace-789d-4855-9101-ce8ff46f23f4",
   "metadata": {},
   "outputs": [
    {
     "data": {
      "text/plain": [
       "[2, 3, 4]"
      ]
     },
     "execution_count": 4,
     "metadata": {},
     "output_type": "execute_result"
    }
   ],
   "source": [
    "mylist[1:4]"
   ]
  },
  {
   "cell_type": "code",
   "execution_count": 5,
   "id": "24b7f1f2-3564-4ca2-8dd3-1955d2d43ee5",
   "metadata": {},
   "outputs": [
    {
     "data": {
      "text/plain": [
       "[1, 2, 3, 4, 'car']"
      ]
     },
     "execution_count": 5,
     "metadata": {},
     "output_type": "execute_result"
    }
   ],
   "source": [
    "mylist[:6]"
   ]
  },
  {
   "cell_type": "code",
   "execution_count": 6,
   "id": "15c1806f-20de-426e-b74c-bab31ab722a3",
   "metadata": {},
   "outputs": [
    {
     "data": {
      "text/plain": [
       "[]"
      ]
     },
     "execution_count": 6,
     "metadata": {},
     "output_type": "execute_result"
    }
   ],
   "source": [
    "mylist[6:]"
   ]
  },
  {
   "cell_type": "markdown",
   "id": "d8deb1bc-2ad7-417a-9326-161c337afcd7",
   "metadata": {},
   "source": [
    "## none vs 0"
   ]
  },
  {
   "cell_type": "code",
   "execution_count": 7,
   "id": "fe3f0fce-4eed-4fa7-9f12-8dfa677d4eaf",
   "metadata": {},
   "outputs": [],
   "source": [
    "n = None\n",
    "n"
   ]
  },
  {
   "cell_type": "code",
   "execution_count": 8,
   "id": "016f7c7f-0ad0-4bc3-918a-a3e5c44606b5",
   "metadata": {},
   "outputs": [
    {
     "data": {
      "text/plain": [
       "0"
      ]
     },
     "execution_count": 8,
     "metadata": {},
     "output_type": "execute_result"
    }
   ],
   "source": [
    "m = 0\n",
    "m"
   ]
  },
  {
   "cell_type": "code",
   "execution_count": 9,
   "id": "d77e48ab-4ecb-418d-b810-af488081a02b",
   "metadata": {},
   "outputs": [
    {
     "data": {
      "text/plain": [
       "set"
      ]
     },
     "execution_count": 9,
     "metadata": {},
     "output_type": "execute_result"
    }
   ],
   "source": [
    "array = {12, 34, 45, 32, 54}\n",
    "type(array)"
   ]
  },
  {
   "cell_type": "code",
   "execution_count": 10,
   "id": "50c7c434-c577-4c5a-babd-0dd36d64183c",
   "metadata": {},
   "outputs": [
    {
     "data": {
      "text/plain": [
       "5"
      ]
     },
     "execution_count": 10,
     "metadata": {},
     "output_type": "execute_result"
    }
   ],
   "source": [
    "len(mylist)"
   ]
  },
  {
   "cell_type": "code",
   "execution_count": 11,
   "id": "e89b1e22-115d-4d6b-b179-724defa4c198",
   "metadata": {},
   "outputs": [
    {
     "data": {
      "text/plain": [
       "[1, 2, 3, 4, 'car']"
      ]
     },
     "execution_count": 11,
     "metadata": {},
     "output_type": "execute_result"
    }
   ],
   "source": [
    "mylist[0:9]"
   ]
  },
  {
   "cell_type": "markdown",
   "id": "9bd9c861-ab3d-4155-b879-db8fb755aaf8",
   "metadata": {},
   "source": [
    "## Type"
   ]
  },
  {
   "cell_type": "code",
   "execution_count": 12,
   "id": "ffe3cb93-d16b-4764-a765-2a0aa0abd4b6",
   "metadata": {},
   "outputs": [
    {
     "data": {
      "text/plain": [
       "list"
      ]
     },
     "execution_count": 12,
     "metadata": {},
     "output_type": "execute_result"
    }
   ],
   "source": [
    "type(mylist)"
   ]
  },
  {
   "cell_type": "code",
   "execution_count": 13,
   "id": "05bfcbfa-42cd-435b-8481-a64ada6936c0",
   "metadata": {},
   "outputs": [
    {
     "data": {
      "text/plain": [
       "list"
      ]
     },
     "execution_count": 13,
     "metadata": {},
     "output_type": "execute_result"
    }
   ],
   "source": [
    "y = [1,2,3,4]\n",
    "type(y)"
   ]
  },
  {
   "cell_type": "code",
   "execution_count": 14,
   "id": "d976a5ec-2279-4878-b70e-04b0aa3da820",
   "metadata": {},
   "outputs": [
    {
     "data": {
      "text/plain": [
       "int"
      ]
     },
     "execution_count": 14,
     "metadata": {},
     "output_type": "execute_result"
    }
   ],
   "source": [
    "type(mylist[1])"
   ]
  },
  {
   "cell_type": "code",
   "execution_count": 15,
   "id": "5b07265d-4aa0-4e30-90e7-49c05dd1f1b5",
   "metadata": {},
   "outputs": [
    {
     "data": {
      "text/plain": [
       "'car'"
      ]
     },
     "execution_count": 15,
     "metadata": {},
     "output_type": "execute_result"
    }
   ],
   "source": [
    "mylist[len(mylist)-1]"
   ]
  },
  {
   "cell_type": "markdown",
   "id": "a8be9a71-2a18-48cf-926d-62b1e6ffe6b4",
   "metadata": {},
   "source": [
    "# reverse access"
   ]
  },
  {
   "cell_type": "code",
   "execution_count": 16,
   "id": "77896938-13f5-400d-9743-6901972b9de2",
   "metadata": {},
   "outputs": [
    {
     "data": {
      "text/plain": [
       "'car'"
      ]
     },
     "execution_count": 16,
     "metadata": {},
     "output_type": "execute_result"
    }
   ],
   "source": [
    "mylist[-1]"
   ]
  },
  {
   "cell_type": "code",
   "execution_count": 17,
   "id": "28480d9e-d21e-46e9-8f69-2bffb508c60b",
   "metadata": {},
   "outputs": [
    {
     "data": {
      "text/plain": [
       "[2, 3, 4]"
      ]
     },
     "execution_count": 17,
     "metadata": {},
     "output_type": "execute_result"
    }
   ],
   "source": [
    "mylist[-4:-1]"
   ]
  },
  {
   "cell_type": "code",
   "execution_count": 18,
   "id": "4ee3ffbb-cf64-4be7-94ef-f73b0c2d98b3",
   "metadata": {},
   "outputs": [],
   "source": [
    "mylist[2] = \"Banana\""
   ]
  },
  {
   "cell_type": "code",
   "execution_count": 19,
   "id": "54fb1263-8945-40b2-840a-387935b461fa",
   "metadata": {},
   "outputs": [
    {
     "data": {
      "text/plain": [
       "[1, 2, 'Banana', 4, 'car']"
      ]
     },
     "execution_count": 19,
     "metadata": {},
     "output_type": "execute_result"
    }
   ],
   "source": [
    "mylist"
   ]
  },
  {
   "cell_type": "code",
   "execution_count": 20,
   "id": "ad81d0cb-5405-4f27-bef3-02e54e3239e6",
   "metadata": {},
   "outputs": [
    {
     "data": {
      "text/plain": [
       "[1, 'apple', 'Kiwi', 'orange', True, None, 'car']"
      ]
     },
     "execution_count": 20,
     "metadata": {},
     "output_type": "execute_result"
    }
   ],
   "source": [
    "mylist[-4:-1] = [\"apple\", \"Kiwi\", \"orange\",True,None]\n",
    "mylist"
   ]
  },
  {
   "cell_type": "code",
   "execution_count": 21,
   "id": "68f94b76-4a1a-4763-b35c-4f8f5be10692",
   "metadata": {},
   "outputs": [
    {
     "data": {
      "text/plain": [
       "3"
      ]
     },
     "execution_count": 21,
     "metadata": {},
     "output_type": "execute_result"
    }
   ],
   "source": [
    "len(mylist[-4:-1])"
   ]
  },
  {
   "cell_type": "code",
   "execution_count": 22,
   "id": "79017e19-3c7b-4785-80b4-845d4cbcc71d",
   "metadata": {},
   "outputs": [
    {
     "data": {
      "text/plain": [
       "[1, 'apple', 'Kiwi', 'orange', True, None, 'apple', 'Kiwi', 'orange', 'car']"
      ]
     },
     "execution_count": 22,
     "metadata": {},
     "output_type": "execute_result"
    }
   ],
   "source": [
    "mylist[-1:-1] = [\"apple\", \"Kiwi\", \"orange\"]\n",
    "mylist"
   ]
  },
  {
   "cell_type": "code",
   "execution_count": 23,
   "id": "5b07352d-9575-44fe-b978-cd1fae207342",
   "metadata": {},
   "outputs": [],
   "source": [
    "mylist.append(\"red\")"
   ]
  },
  {
   "cell_type": "code",
   "execution_count": 24,
   "id": "03fb84ce-a08b-4502-ae2e-5528da791f85",
   "metadata": {},
   "outputs": [
    {
     "data": {
      "text/plain": [
       "[1,\n",
       " 'apple',\n",
       " 'Kiwi',\n",
       " 'orange',\n",
       " True,\n",
       " None,\n",
       " 'apple',\n",
       " 'Kiwi',\n",
       " 'orange',\n",
       " 'car',\n",
       " 'red']"
      ]
     },
     "execution_count": 24,
     "metadata": {},
     "output_type": "execute_result"
    }
   ],
   "source": [
    "mylist"
   ]
  },
  {
   "cell_type": "code",
   "execution_count": 25,
   "id": "cfb1a2f6-e279-4671-9041-be5b2c466f93",
   "metadata": {},
   "outputs": [],
   "source": [
    "mylist.insert(2, \"Green\")"
   ]
  },
  {
   "cell_type": "code",
   "execution_count": 26,
   "id": "ae241731-038b-4f2d-9c25-a7d5ba304872",
   "metadata": {},
   "outputs": [
    {
     "data": {
      "text/plain": [
       "'Green'"
      ]
     },
     "execution_count": 26,
     "metadata": {},
     "output_type": "execute_result"
    }
   ],
   "source": [
    "mylist[2]"
   ]
  },
  {
   "cell_type": "code",
   "execution_count": 27,
   "id": "b568d085-033d-416a-aea5-8c6efe6abf9e",
   "metadata": {},
   "outputs": [
    {
     "data": {
      "text/plain": [
       "[1, 2, 3, 4, 5, 6]"
      ]
     },
     "execution_count": 27,
     "metadata": {},
     "output_type": "execute_result"
    }
   ],
   "source": [
    "mylist1 = [1,2,3]\n",
    "mylist2= [4,5,6]\n",
    "mylist1.extend(mylist2)\n",
    "mylist1"
   ]
  },
  {
   "cell_type": "code",
   "execution_count": 28,
   "id": "9134ec82-2348-4148-aaea-2e7de66f9db4",
   "metadata": {},
   "outputs": [
    {
     "data": {
      "text/plain": [
       "[1, 2, 3, 4, 5, 6, 4, 5, 6]"
      ]
     },
     "execution_count": 28,
     "metadata": {},
     "output_type": "execute_result"
    }
   ],
   "source": [
    "mylist1+mylist2"
   ]
  },
  {
   "cell_type": "code",
   "execution_count": 29,
   "id": "4c0117ae-bfaa-447b-a8a0-5994bbe3b84a",
   "metadata": {},
   "outputs": [],
   "source": [
    "mylist1.remove(2)"
   ]
  },
  {
   "cell_type": "code",
   "execution_count": 30,
   "id": "c92bf9d2-62a8-4499-8326-824b3a727c0c",
   "metadata": {},
   "outputs": [
    {
     "data": {
      "text/plain": [
       "[1, 3, 4, 5, 6]"
      ]
     },
     "execution_count": 30,
     "metadata": {},
     "output_type": "execute_result"
    }
   ],
   "source": [
    "mylist1"
   ]
  },
  {
   "cell_type": "code",
   "execution_count": 31,
   "id": "30bb0692-40fc-4d6c-a7b3-45ab95f64be9",
   "metadata": {},
   "outputs": [],
   "source": [
    "mylist4 = [1,2,3,[123,123],'apple',\n",
    " 'apple',\n",
    " 'Kiwi',\n",
    " 'orange',\n",
    " True,\n",
    " None,\n",
    " 'red',\n",
    " 'red']"
   ]
  },
  {
   "cell_type": "code",
   "execution_count": 32,
   "id": "02165f45-670c-4ae9-8a7f-6a0daedfa894",
   "metadata": {},
   "outputs": [
    {
     "data": {
      "text/plain": [
       "[1,\n",
       " 2,\n",
       " 3,\n",
       " [123, 123],\n",
       " 'apple',\n",
       " 'apple',\n",
       " 'Kiwi',\n",
       " 'orange',\n",
       " True,\n",
       " None,\n",
       " 'red',\n",
       " 'red']"
      ]
     },
     "execution_count": 32,
     "metadata": {},
     "output_type": "execute_result"
    }
   ],
   "source": [
    "mylist4"
   ]
  },
  {
   "cell_type": "code",
   "execution_count": 33,
   "id": "dc8fc2cd-290d-4e3c-af5a-befd36c9b418",
   "metadata": {},
   "outputs": [
    {
     "data": {
      "text/plain": [
       "[]"
      ]
     },
     "execution_count": 33,
     "metadata": {},
     "output_type": "execute_result"
    }
   ],
   "source": [
    "mylist4[2:2]"
   ]
  },
  {
   "cell_type": "code",
   "execution_count": 34,
   "id": "2f2f0df0-efd1-4eb3-b75f-593a4911ef32",
   "metadata": {},
   "outputs": [
    {
     "data": {
      "text/plain": [
       "3"
      ]
     },
     "execution_count": 34,
     "metadata": {},
     "output_type": "execute_result"
    }
   ],
   "source": [
    "mylist4[2]"
   ]
  },
  {
   "cell_type": "code",
   "execution_count": 35,
   "id": "3d61d142-c6b4-4102-8f6f-e6386eeed6dc",
   "metadata": {},
   "outputs": [
    {
     "data": {
      "text/plain": [
       "[6, 5, 4, 3, 1]"
      ]
     },
     "execution_count": 35,
     "metadata": {},
     "output_type": "execute_result"
    }
   ],
   "source": [
    "mylist1.sort(reverse = True)\n",
    "mylist1"
   ]
  },
  {
   "cell_type": "markdown",
   "id": "2683b29c-089d-4432-b55b-eec25415c4f4",
   "metadata": {},
   "source": [
    "Sort List"
   ]
  },
  {
   "cell_type": "code",
   "execution_count": 36,
   "id": "3f8f5845-1bfc-4927-87cf-63dcbb466673",
   "metadata": {},
   "outputs": [
    {
     "data": {
      "text/plain": [
       "[1,\n",
       " 'apple',\n",
       " 'Green',\n",
       " 'Kiwi',\n",
       " 'orange',\n",
       " True,\n",
       " None,\n",
       " 'apple',\n",
       " 'Kiwi',\n",
       " 'orange',\n",
       " 'car',\n",
       " 'red']"
      ]
     },
     "execution_count": 36,
     "metadata": {},
     "output_type": "execute_result"
    }
   ],
   "source": [
    "\n",
    "mylist"
   ]
  },
  {
   "cell_type": "code",
   "execution_count": 37,
   "id": "b18e8131-6720-4f42-8119-aac17f3936ed",
   "metadata": {},
   "outputs": [],
   "source": [
    "for i in range(len(mylist)):\n",
    "    mylist.append(mylist[i])"
   ]
  },
  {
   "cell_type": "code",
   "execution_count": 38,
   "id": "a144ba3b-a141-41de-94b5-9b0854e29906",
   "metadata": {},
   "outputs": [
    {
     "data": {
      "text/plain": [
       "[1,\n",
       " 'apple',\n",
       " 'Green',\n",
       " 'Kiwi',\n",
       " 'orange',\n",
       " True,\n",
       " None,\n",
       " 'apple',\n",
       " 'Kiwi',\n",
       " 'orange',\n",
       " 'car',\n",
       " 'red',\n",
       " 1,\n",
       " 'apple',\n",
       " 'Green',\n",
       " 'Kiwi',\n",
       " 'orange',\n",
       " True,\n",
       " None,\n",
       " 'apple',\n",
       " 'Kiwi',\n",
       " 'orange',\n",
       " 'car',\n",
       " 'red']"
      ]
     },
     "execution_count": 38,
     "metadata": {},
     "output_type": "execute_result"
    }
   ],
   "source": [
    "mylist"
   ]
  },
  {
   "cell_type": "markdown",
   "id": "abedf82e-1b23-4a88-87eb-bc34bdeca5ff",
   "metadata": {},
   "source": [
    "but extend is better than a loop"
   ]
  },
  {
   "cell_type": "markdown",
   "id": "e17bce23-d15b-4fe7-a739-af93b8834cb1",
   "metadata": {},
   "source": [
    "## Tuple"
   ]
  },
  {
   "cell_type": "code",
   "execution_count": 39,
   "id": "4c07dfd1-c4cd-4849-86c0-0b86720dc6a6",
   "metadata": {},
   "outputs": [
    {
     "data": {
      "text/plain": [
       "tuple"
      ]
     },
     "execution_count": 39,
     "metadata": {},
     "output_type": "execute_result"
    }
   ],
   "source": [
    "z = (1,2,3,4)\n",
    "type(z)"
   ]
  },
  {
   "cell_type": "code",
   "execution_count": 40,
   "id": "9aeae08e-8ded-435f-afd2-b518890f8413",
   "metadata": {},
   "outputs": [
    {
     "data": {
      "text/plain": [
       "3"
      ]
     },
     "execution_count": 40,
     "metadata": {},
     "output_type": "execute_result"
    }
   ],
   "source": [
    "z[2]"
   ]
  },
  {
   "cell_type": "code",
   "execution_count": 41,
   "id": "af65dc39-6a2d-4d53-9794-f726855b66da",
   "metadata": {},
   "outputs": [
    {
     "data": {
      "text/plain": [
       "1"
      ]
     },
     "execution_count": 41,
     "metadata": {},
     "output_type": "execute_result"
    }
   ],
   "source": [
    "z[0]"
   ]
  },
  {
   "cell_type": "code",
   "execution_count": 42,
   "id": "657fde0f-6134-49c4-8cec-a7f9e9925447",
   "metadata": {},
   "outputs": [
    {
     "data": {
      "text/plain": [
       "(1, 2, 3)"
      ]
     },
     "execution_count": 42,
     "metadata": {},
     "output_type": "execute_result"
    }
   ],
   "source": [
    "z[0:3]"
   ]
  },
  {
   "cell_type": "code",
   "execution_count": 43,
   "id": "29d669d8-b21e-40a2-9e97-c6eb038bfd2d",
   "metadata": {},
   "outputs": [
    {
     "data": {
      "text/plain": [
       "(1, 2, 3, 4)"
      ]
     },
     "execution_count": 43,
     "metadata": {},
     "output_type": "execute_result"
    }
   ],
   "source": [
    "z[0:]"
   ]
  },
  {
   "cell_type": "code",
   "execution_count": 44,
   "id": "850679cb-f229-461c-883d-35317502bebe",
   "metadata": {},
   "outputs": [
    {
     "data": {
      "text/plain": [
       "(2, 3)"
      ]
     },
     "execution_count": 44,
     "metadata": {},
     "output_type": "execute_result"
    }
   ],
   "source": [
    "z[-3:-1]"
   ]
  },
  {
   "cell_type": "code",
   "execution_count": 45,
   "id": "198478e4-a46c-4304-b74e-ea5d5d3944ee",
   "metadata": {},
   "outputs": [
    {
     "data": {
      "text/plain": [
       "tuple"
      ]
     },
     "execution_count": 45,
     "metadata": {},
     "output_type": "execute_result"
    }
   ],
   "source": [
    "type(z[-3:-1])"
   ]
  },
  {
   "cell_type": "code",
   "execution_count": 46,
   "id": "66c50b64-6fcd-4dfe-9404-85f77a6be345",
   "metadata": {},
   "outputs": [
    {
     "data": {
      "text/plain": [
       "[1, 2, 3, 4]"
      ]
     },
     "execution_count": 46,
     "metadata": {},
     "output_type": "execute_result"
    }
   ],
   "source": [
    "k = list(z)\n",
    "k"
   ]
  },
  {
   "cell_type": "code",
   "execution_count": 47,
   "id": "1fa8b7f0-9161-4323-a785-0b47f8a47962",
   "metadata": {},
   "outputs": [
    {
     "data": {
      "text/plain": [
       "(1, 2, 3, 4)"
      ]
     },
     "execution_count": 47,
     "metadata": {},
     "output_type": "execute_result"
    }
   ],
   "source": [
    "k = tuple(k)\n",
    "k"
   ]
  },
  {
   "cell_type": "markdown",
   "id": "ff74a233-a4e1-4b62-9baf-b534c70045f0",
   "metadata": {},
   "source": [
    "Remove an item"
   ]
  },
  {
   "cell_type": "markdown",
   "id": "76665f7a-7e91-4ef7-a848-439881dccbdb",
   "metadata": {},
   "source": [
    "## Dictionary"
   ]
  },
  {
   "cell_type": "code",
   "execution_count": 48,
   "id": "ab0564f8-dacd-4b44-a570-f7709368e7fd",
   "metadata": {},
   "outputs": [],
   "source": [
    "cardict = {\n",
    "            \"key\" : \"value\",\n",
    "           \"Brand\" : \"Ford\",\n",
    "           \"Year\" : 2020\n",
    "          }"
   ]
  },
  {
   "cell_type": "code",
   "execution_count": 59,
   "id": "650e8ee1-032d-4ff0-ae4e-e9a0626c0370",
   "metadata": {},
   "outputs": [
    {
     "data": {
      "text/plain": [
       "{'key': 100, 'Brand': 'Ford', 'Year': 2020}"
      ]
     },
     "execution_count": 59,
     "metadata": {},
     "output_type": "execute_result"
    }
   ],
   "source": [
    "cardict"
   ]
  },
  {
   "cell_type": "code",
   "execution_count": 60,
   "id": "7e7d1fbe-ea14-4876-8cf2-2377d49dbb06",
   "metadata": {},
   "outputs": [
    {
     "data": {
      "text/plain": [
       "100"
      ]
     },
     "execution_count": 60,
     "metadata": {},
     "output_type": "execute_result"
    }
   ],
   "source": [
    "cardict['key']"
   ]
  },
  {
   "cell_type": "code",
   "execution_count": 61,
   "id": "1e341dc3-eb12-4cbb-8e88-2e6d08582aa6",
   "metadata": {},
   "outputs": [],
   "source": [
    "new_cardict = dict(key = \"value\",\n",
    "           Brand = \"Ford\",\n",
    "           Year = 2020)"
   ]
  },
  {
   "cell_type": "code",
   "execution_count": 62,
   "id": "bfc9e3d6-75e2-45d7-a124-12b1f9405c55",
   "metadata": {},
   "outputs": [
    {
     "name": "stdout",
     "output_type": "stream",
     "text": [
      "{'key': 'value', 'Brand': 'Ford', 'Year': 2020}\n"
     ]
    }
   ],
   "source": [
    "print(new_cardict)"
   ]
  },
  {
   "cell_type": "code",
   "execution_count": 63,
   "id": "2a32ec17-b738-4db0-a989-f8ad34db073b",
   "metadata": {},
   "outputs": [
    {
     "name": "stdout",
     "output_type": "stream",
     "text": [
      "dict_keys(['key', 'Brand', 'Year'])\n"
     ]
    }
   ],
   "source": [
    "print(cardict.keys())"
   ]
  },
  {
   "cell_type": "code",
   "execution_count": 64,
   "id": "0eee7e2a-c3bc-4b99-8853-7828132f86a0",
   "metadata": {},
   "outputs": [
    {
     "name": "stdout",
     "output_type": "stream",
     "text": [
      "dict_values([100, 'Ford', 2020])\n"
     ]
    }
   ],
   "source": [
    "print(cardict.values())"
   ]
  },
  {
   "cell_type": "code",
   "execution_count": 65,
   "id": "0407a387-c86c-409b-a610-c4a482632e97",
   "metadata": {},
   "outputs": [
    {
     "name": "stdout",
     "output_type": "stream",
     "text": [
      "dict_items([('key', 100), ('Brand', 'Ford'), ('Year', 2020)])\n"
     ]
    }
   ],
   "source": [
    "print(cardict.items())"
   ]
  },
  {
   "cell_type": "code",
   "execution_count": 66,
   "id": "90615c05-05bf-4059-9f84-df9e5906dc04",
   "metadata": {},
   "outputs": [
    {
     "data": {
      "text/plain": [
       "dict_items"
      ]
     },
     "execution_count": 66,
     "metadata": {},
     "output_type": "execute_result"
    }
   ],
   "source": [
    "type(cardict.items())"
   ]
  },
  {
   "cell_type": "code",
   "execution_count": 68,
   "id": "9308f110-925b-42e9-9a4d-3844b5feeb57",
   "metadata": {},
   "outputs": [
    {
     "data": {
      "text/plain": [
       "{'key': 100, 'Brand': 'Ford'}"
      ]
     },
     "execution_count": 68,
     "metadata": {},
     "output_type": "execute_result"
    }
   ],
   "source": [
    "cardict.pop('Year')\n",
    "cardict"
   ]
  },
  {
   "cell_type": "code",
   "execution_count": 71,
   "id": "20f1198d-5406-4024-bc76-aaa421b0edc4",
   "metadata": {},
   "outputs": [
    {
     "data": {
      "text/plain": [
       "{'key': 100}"
      ]
     },
     "execution_count": 71,
     "metadata": {},
     "output_type": "execute_result"
    }
   ],
   "source": [
    "del cardict[\"Brand\"]\n",
    "cardict"
   ]
  },
  {
   "cell_type": "markdown",
   "id": "9e5808e4-836a-4368-bdd8-15d93e412c52",
   "metadata": {},
   "source": [
    "## Nested Dictionaries"
   ]
  },
  {
   "cell_type": "code",
   "execution_count": 82,
   "id": "4aa3ef0d-cde1-45ae-9ec0-a3f2ac793e5d",
   "metadata": {},
   "outputs": [],
   "source": [
    "nestdict = { 'apple' : {'phones': '15pro','watch':'wrist'}, 'nokia':'525', 'orange':[1,2,3,4], 'Banana':(1,2,3,4)}"
   ]
  },
  {
   "cell_type": "code",
   "execution_count": 83,
   "id": "5d317c5c-0cb8-4cc1-9e24-f77e5feffc38",
   "metadata": {},
   "outputs": [
    {
     "data": {
      "text/plain": [
       "{'apple': {'phones': '15pro', 'watch': 'wrist'},\n",
       " 'nokia': '525',\n",
       " 'orange': [1, 2, 3, 4],\n",
       " 'Banana': (1, 2, 3, 4)}"
      ]
     },
     "execution_count": 83,
     "metadata": {},
     "output_type": "execute_result"
    }
   ],
   "source": [
    "nestdict"
   ]
  },
  {
   "cell_type": "code",
   "execution_count": 84,
   "id": "f77e9ef0-d5cf-4559-9789-8b423e9840a9",
   "metadata": {},
   "outputs": [
    {
     "data": {
      "text/plain": [
       "{'phones': '15pro', 'watch': 'wrist'}"
      ]
     },
     "execution_count": 84,
     "metadata": {},
     "output_type": "execute_result"
    }
   ],
   "source": [
    "nestdict['apple']"
   ]
  },
  {
   "cell_type": "code",
   "execution_count": 85,
   "id": "91e25577-3ae5-4cb6-9a2f-062b15bc27d0",
   "metadata": {},
   "outputs": [
    {
     "data": {
      "text/plain": [
       "dict"
      ]
     },
     "execution_count": 85,
     "metadata": {},
     "output_type": "execute_result"
    }
   ],
   "source": [
    "type(nestdict['apple'])"
   ]
  },
  {
   "cell_type": "code",
   "execution_count": 86,
   "id": "84e0311f-88d0-4f6b-926a-c4b142d81e0e",
   "metadata": {},
   "outputs": [
    {
     "data": {
      "text/plain": [
       "tuple"
      ]
     },
     "execution_count": 86,
     "metadata": {},
     "output_type": "execute_result"
    }
   ],
   "source": [
    "type(nestdict['Banana'])"
   ]
  },
  {
   "cell_type": "code",
   "execution_count": 87,
   "id": "6ee53273-cca0-4ec6-9df8-266d60eab6ea",
   "metadata": {},
   "outputs": [
    {
     "data": {
      "text/plain": [
       "{'apple': {'phones': '15pro', 'watch': 'wrist'},\n",
       " 'nokia': 'Cell',\n",
       " 'orange': [1, 2, 3, 4],\n",
       " 'Banana': (1, 2, 3, 4)}"
      ]
     },
     "execution_count": 87,
     "metadata": {},
     "output_type": "execute_result"
    }
   ],
   "source": [
    "nestdict['nokia'] = 'Cell'\n",
    "nestdict"
   ]
  },
  {
   "cell_type": "markdown",
   "id": "88287cb2-f219-44cd-9cac-e5f6acdadf00",
   "metadata": {},
   "source": [
    "## Calling the dict inside dict"
   ]
  },
  {
   "cell_type": "code",
   "execution_count": 88,
   "id": "94e39172-3dba-44fa-a147-a6a00303f0c6",
   "metadata": {},
   "outputs": [
    {
     "data": {
      "text/plain": [
       "'wrist'"
      ]
     },
     "execution_count": 88,
     "metadata": {},
     "output_type": "execute_result"
    }
   ],
   "source": [
    "nestdict['apple']['watch']"
   ]
  },
  {
   "cell_type": "markdown",
   "id": "fa1d79d6-9573-4493-a154-c614e1973d9f",
   "metadata": {},
   "source": [
    "## Calling the list inside list"
   ]
  },
  {
   "cell_type": "code",
   "execution_count": 93,
   "id": "d9a1e84a-251d-46c1-b74b-c20fc6f260b9",
   "metadata": {},
   "outputs": [],
   "source": [
    "mylist5 = [1,2,3,[123,123],'apple',\n",
    " 'apple',\n",
    " 'Kiwi',\n",
    " 'orange',\n",
    " True,\n",
    " None,\n",
    " 'red',\n",
    " 'red',{'apple' : {'phones': '15pro','watch':'wrist'}}]"
   ]
  },
  {
   "cell_type": "code",
   "execution_count": 100,
   "id": "67752dd2-aa83-4b30-85e4-cda24d6e73b4",
   "metadata": {},
   "outputs": [
    {
     "data": {
      "text/plain": [
       "{'phones': '15pro', 'watch': 'wrist'}"
      ]
     },
     "execution_count": 100,
     "metadata": {},
     "output_type": "execute_result"
    }
   ],
   "source": [
    "mylist5[12]['apple']"
   ]
  },
  {
   "cell_type": "markdown",
   "id": "ebbb9a2e-9ee6-4c51-8a2e-d59d6f8d754b",
   "metadata": {},
   "source": [
    "# Loop"
   ]
  },
  {
   "cell_type": "code",
   "execution_count": 102,
   "id": "75c41d64-2a5c-4326-a218-f024bc2a6720",
   "metadata": {},
   "outputs": [
    {
     "name": "stdout",
     "output_type": "stream",
     "text": [
      "hello\n",
      "hello\n",
      "hello\n",
      "hello\n",
      "hello\n",
      "Good bye\n"
     ]
    }
   ],
   "source": [
    "for i in range (5,10):\n",
    "    print(\"hello\")\n",
    "print('Good bye')"
   ]
  },
  {
   "cell_type": "code",
   "execution_count": 103,
   "id": "1ac73f30-8970-4cc2-b731-8ded9726556f",
   "metadata": {},
   "outputs": [
    {
     "name": "stdout",
     "output_type": "stream",
     "text": [
      "a\n",
      "p\n",
      "p\n",
      "l\n",
      "e\n"
     ]
    }
   ],
   "source": [
    "fruit = 'apple'\n",
    "for i in range (len(fruit)):\n",
    "    print(fruit[i])"
   ]
  },
  {
   "cell_type": "markdown",
   "id": "8e0a1b8a-05dc-4edc-baf8-a2f3f72c75a7",
   "metadata": {},
   "source": [
    "## While"
   ]
  },
  {
   "cell_type": "code",
   "execution_count": 113,
   "id": "62c6249a-453d-4423-b672-be6829238473",
   "metadata": {},
   "outputs": [
    {
     "name": "stdout",
     "output_type": "stream",
     "text": [
      "1\n",
      "2\n",
      "3\n",
      "4\n",
      "5\n"
     ]
    }
   ],
   "source": [
    "i = 1\n",
    "while i<6:\n",
    "    print(i)\n",
    "    i= i+1"
   ]
  }
 ],
 "metadata": {
  "kernelspec": {
   "display_name": "Python 3 (ipykernel)",
   "language": "python",
   "name": "python3"
  }
 },
 "nbformat": 4,
 "nbformat_minor": 5
}
