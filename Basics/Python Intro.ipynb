{
 "cells": [
  {
   "cell_type": "code",
   "execution_count": 4,
   "id": "75a7bf51-8959-4dab-b3cd-85f66c5a8a10",
   "metadata": {},
   "outputs": [
    {
     "name": "stdout",
     "output_type": "stream",
     "text": [
      "Hello World\n"
     ]
    }
   ],
   "source": [
    "print('Hello World')"
   ]
  },
  {
   "cell_type": "code",
   "execution_count": 5,
   "id": "2742e89c-7ea7-49f7-a451-e42d95f2b7c1",
   "metadata": {},
   "outputs": [
    {
     "data": {
      "text/plain": [
       "16"
      ]
     },
     "execution_count": 5,
     "metadata": {},
     "output_type": "execute_result"
    }
   ],
   "source": [
    "x = 9\n",
    "y = 7\n",
    "x+y"
   ]
  },
  {
   "cell_type": "code",
   "execution_count": 15,
   "id": "37ac4955-408a-40d7-8cbb-6225ef2f5ae3",
   "metadata": {},
   "outputs": [
    {
     "data": {
      "text/plain": [
       "2"
      ]
     },
     "execution_count": 15,
     "metadata": {},
     "output_type": "execute_result"
    }
   ],
   "source": [
    "c = x+y\n",
    "d = x-y\n",
    "c\n",
    "d"
   ]
  },
  {
   "cell_type": "code",
   "execution_count": 16,
   "id": "9c4e3dc1-bc9a-4e33-95cc-d2c1b03c32ad",
   "metadata": {},
   "outputs": [
    {
     "name": "stdout",
     "output_type": "stream",
     "text": [
      "16\n",
      "2\n"
     ]
    }
   ],
   "source": [
    "print(c)\n",
    "print(d)"
   ]
  },
  {
   "cell_type": "code",
   "execution_count": 17,
   "id": "662673ae-b5c9-4190-8e5e-74556ac0fb86",
   "metadata": {},
   "outputs": [
    {
     "name": "stdout",
     "output_type": "stream",
     "text": [
      "2\n"
     ]
    }
   ],
   "source": [
    "#print(c)\n",
    "print(d)"
   ]
  },
  {
   "cell_type": "markdown",
   "id": "8c2814bb-2ec4-4544-80f5-a01f99bfffec",
   "metadata": {},
   "source": [
    "ctrl + / for #\n",
    "copy all the expected cell and press ctrl + /"
   ]
  },
  {
   "cell_type": "code",
   "execution_count": 18,
   "id": "77a11453-60cf-4dfd-92f5-75d7aaae65f0",
   "metadata": {},
   "outputs": [],
   "source": [
    "# print(c)\n",
    "# print(d)"
   ]
  },
  {
   "cell_type": "code",
   "execution_count": 19,
   "id": "612418c9-38bc-4673-a4a8-c13954f5aa3d",
   "metadata": {},
   "outputs": [
    {
     "name": "stdout",
     "output_type": "stream",
     "text": [
      "Summation/operation of two numbers:  16 , 2\n"
     ]
    }
   ],
   "source": [
    "print('Summation/operation of two numbers: ', c,',',d)"
   ]
  },
  {
   "cell_type": "code",
   "execution_count": 20,
   "id": "ce3ef23e-3bae-4a94-b5fa-2f0b692d6246",
   "metadata": {
    "editable": true,
    "slideshow": {
     "slide_type": ""
    },
    "tags": []
   },
   "outputs": [
    {
     "name": "stdout",
     "output_type": "stream",
     "text": [
      "Summation/operation of 9 and 7:  16 , 2\n"
     ]
    }
   ],
   "source": [
    "print(f'Summation/operation of {x} and {y}: ', c,',',d)"
   ]
  },
  {
   "cell_type": "code",
   "execution_count": 22,
   "id": "3bc2cfa9-f315-4a86-acb1-d90675af2e6c",
   "metadata": {},
   "outputs": [
    {
     "name": "stdout",
     "output_type": "stream",
     "text": [
      "Summation/operation of 9 and 7: 16\n"
     ]
    }
   ],
   "source": [
    "print('Summation/operation of {} and {}: {}'.format(x,y,c))"
   ]
  },
  {
   "cell_type": "code",
   "execution_count": 26,
   "id": "d7653d95-c418-40c6-85cb-25682510938b",
   "metadata": {},
   "outputs": [
    {
     "name": "stdin",
     "output_type": "stream",
     "text": [
      "Enter a number:  234\n"
     ]
    }
   ],
   "source": [
    "inp = input(\"Enter a number: \")"
   ]
  },
  {
   "cell_type": "markdown",
   "id": "c5cf3381-51c4-4efb-9ef6-22279596f70c",
   "metadata": {},
   "source": [
    "int and float : 1, 1.2\n",
    "string : a,b"
   ]
  },
  {
   "cell_type": "code",
   "execution_count": 28,
   "id": "c614f0f7-fd41-4c8c-ae7d-6d04116b7590",
   "metadata": {},
   "outputs": [
    {
     "data": {
      "text/plain": [
       "int"
      ]
     },
     "execution_count": 28,
     "metadata": {},
     "output_type": "execute_result"
    }
   ],
   "source": [
    "type(x)"
   ]
  },
  {
   "cell_type": "code",
   "execution_count": 30,
   "id": "4caf03d5-87c8-46b0-aaf4-ef680592a83f",
   "metadata": {},
   "outputs": [
    {
     "name": "stdin",
     "output_type": "stream",
     "text": [
      "Enter a number:  123\n"
     ]
    },
    {
     "data": {
      "text/plain": [
       "int"
      ]
     },
     "execution_count": 30,
     "metadata": {},
     "output_type": "execute_result"
    }
   ],
   "source": [
    "#type casting\n",
    "inp = int(input(\"Enter a number: \")) #implicit conversion\n",
    "type(inp)"
   ]
  },
  {
   "cell_type": "markdown",
   "id": "ceac5f7c-1feb-444c-9a72-a81043fdf3f0",
   "metadata": {},
   "source": [
    "string cant be converted into int"
   ]
  },
  {
   "cell_type": "markdown",
   "id": "8253d68a-74ee-442b-993a-94596dec1e2e",
   "metadata": {},
   "source": [
    "'''Write a program to find the area of a rectangle\n",
    "sample input:\n",
    "    height: 5\n",
    "    width : 10\n",
    "Sample output:\n",
    "    area = 50\n",
    "'''"
   ]
  },
  {
   "cell_type": "code",
   "execution_count": 8,
   "id": "1791ee7a-331f-46e2-b6c7-eaf5a36e6f8d",
   "metadata": {},
   "outputs": [
    {
     "name": "stdin",
     "output_type": "stream",
     "text": [
      "Enter a number:  2\n",
      "Enter a number:  3\n"
     ]
    },
    {
     "name": "stdout",
     "output_type": "stream",
     "text": [
      "Sample output area = 6.0\n"
     ]
    }
   ],
   "source": [
    "height= float(input(\"Enter a number: \"))\n",
    "width = float(input(\"Enter a number: \"))\n",
    "area = height*width\n",
    "print(f'Sample output area = {area}')"
   ]
  },
  {
   "cell_type": "code",
   "execution_count": 2,
   "id": "2fd943ec-f20c-4ac3-b682-09d047b7129f",
   "metadata": {},
   "outputs": [
    {
     "data": {
      "text/plain": [
       "3"
      ]
     },
     "execution_count": 2,
     "metadata": {},
     "output_type": "execute_result"
    }
   ],
   "source": [
    "1+2"
   ]
  },
  {
   "cell_type": "code",
   "execution_count": 10,
   "id": "a217173c-dc67-4d73-a21d-c3cf2de91ad4",
   "metadata": {},
   "outputs": [],
   "source": [
    "t,u,o = 1,2,3"
   ]
  },
  {
   "cell_type": "markdown",
   "id": "1ad2f3e1-9121-474a-b939-fa1b96da8c1e",
   "metadata": {},
   "source": [
    "reserve key words\n",
    "for, if, break,elif"
   ]
  },
  {
   "cell_type": "code",
   "execution_count": 14,
   "id": "30cfed45-c5a7-472e-8278-e42b320da1cc",
   "metadata": {},
   "outputs": [
    {
     "data": {
      "text/plain": [
       "float"
      ]
     },
     "execution_count": 14,
     "metadata": {},
     "output_type": "execute_result"
    }
   ],
   "source": [
    "#implicit conversion\n",
    "q = 2\n",
    "w = 2.3\n",
    "type(q+w)"
   ]
  },
  {
   "cell_type": "code",
   "execution_count": 16,
   "id": "214eb3b9-f16c-4920-98a3-e9565943a4c6",
   "metadata": {},
   "outputs": [
    {
     "data": {
      "text/plain": [
       "2187"
      ]
     },
     "execution_count": 16,
     "metadata": {},
     "output_type": "execute_result"
    }
   ],
   "source": [
    "f = 3\n",
    "k = 7\n",
    "f**k"
   ]
  },
  {
   "cell_type": "code",
   "execution_count": 18,
   "id": "fae800f4-f86d-48a4-a8d5-e6e53568dca3",
   "metadata": {},
   "outputs": [
    {
     "data": {
      "text/plain": [
       "21"
      ]
     },
     "execution_count": 18,
     "metadata": {},
     "output_type": "execute_result"
    }
   ],
   "source": [
    "f*k"
   ]
  },
  {
   "cell_type": "code",
   "execution_count": 24,
   "id": "2265bf91-d4d1-4e11-97a4-209db8d91a4c",
   "metadata": {},
   "outputs": [
    {
     "data": {
      "text/plain": [
       "'Hello World'"
      ]
     },
     "execution_count": 24,
     "metadata": {},
     "output_type": "execute_result"
    }
   ],
   "source": [
    "b = \"Hello\"\n",
    "n = \" World\"\n",
    "b+n"
   ]
  },
  {
   "cell_type": "code",
   "execution_count": 26,
   "id": "d3c00c8c-8649-46de-9830-0f7763eb5eb0",
   "metadata": {},
   "outputs": [
    {
     "data": {
      "text/plain": [
       "1.2346"
      ]
     },
     "execution_count": 26,
     "metadata": {},
     "output_type": "execute_result"
    }
   ],
   "source": [
    "r = 1.23456789\n",
    "round(r,4)"
   ]
  },
  {
   "cell_type": "markdown",
   "id": "6742fbb9-4812-45a6-8b79-c15ebc84957b",
   "metadata": {},
   "source": [
    "#%.2f"
   ]
  },
  {
   "cell_type": "code",
   "execution_count": 33,
   "id": "988a0cee-bec6-4388-8473-18907bf1a662",
   "metadata": {},
   "outputs": [],
   "source": [
    "import math"
   ]
  },
  {
   "cell_type": "code",
   "execution_count": 35,
   "id": "8da102b6-45f1-48b1-90d6-7e724b637ddb",
   "metadata": {},
   "outputs": [
    {
     "data": {
      "text/plain": [
       "3.0"
      ]
     },
     "execution_count": 35,
     "metadata": {},
     "output_type": "execute_result"
    }
   ],
   "source": [
    "sqrt(9)"
   ]
  },
  {
   "cell_type": "code",
   "execution_count": 45,
   "id": "5ecb21c4-bf13-4f59-8458-c92fd4e08176",
   "metadata": {},
   "outputs": [
    {
     "name": "stdin",
     "output_type": "stream",
     "text": [
      " 35\n",
      " 2.75\n"
     ]
    },
    {
     "name": "stdout",
     "output_type": "stream",
     "text": [
      "gross pay = 96.25\n"
     ]
    }
   ],
   "source": [
    "#write a program to prompt the user for hours and rate per hour to compute gross pay\n",
    "hours = float(input())\n",
    "rate = float(input())\n",
    "pay = (hours*rate)\n",
    "print(f\"gross pay = {pay}\")"
   ]
  },
  {
   "cell_type": "code",
   "execution_count": 48,
   "id": "e2a5fb3c-2d7c-4328-933c-5c2203bb4a11",
   "metadata": {},
   "outputs": [
    {
     "data": {
      "text/plain": [
       "3.141592653589793"
      ]
     },
     "execution_count": 48,
     "metadata": {},
     "output_type": "execute_result"
    }
   ],
   "source": [
    "math.pi"
   ]
  },
  {
   "cell_type": "code",
   "execution_count": 63,
   "id": "b80e9540-5b1c-47fa-a4fb-281a91d457ce",
   "metadata": {},
   "outputs": [
    {
     "data": {
      "text/plain": [
       "'Calculate surface volume and area of cylinder\\npi*r*r*h\\n2*pi*r*h\\n'"
      ]
     },
     "execution_count": 63,
     "metadata": {},
     "output_type": "execute_result"
    }
   ],
   "source": [
    "'''Calculate surface volume and area of cylinder\n",
    "pi*r*r*h\n",
    "2*pi*r*h\n",
    "'''"
   ]
  },
  {
   "cell_type": "code",
   "execution_count": 60,
   "id": "55db6d3a-5ae5-44a3-bee1-1349e2180033",
   "metadata": {},
   "outputs": [
    {
     "name": "stdin",
     "output_type": "stream",
     "text": [
      " 5\n",
      " 10\n"
     ]
    },
    {
     "name": "stdout",
     "output_type": "stream",
     "text": [
      " surface volume and area are - 1570.796 and 314.159\n"
     ]
    }
   ],
   "source": [
    "height = float(input())\n",
    "radius = float(input())\n",
    "volume = round((math.pi*(radius**2)*height),3)\n",
    "area = round((math.pi*2*radius*height),3)\n",
    "print(f\" surface volume and area are - {volume} and {area}\")"
   ]
  },
  {
   "cell_type": "code",
   "execution_count": 69,
   "id": "e325230e-5881-4e5a-8106-64091d192198",
   "metadata": {},
   "outputs": [
    {
     "name": "stdin",
     "output_type": "stream",
     "text": [
      " 2\n"
     ]
    },
    {
     "name": "stdout",
     "output_type": "stream",
     "text": [
      " The farenheit value of give celcius based tmparature - 35.6\n"
     ]
    }
   ],
   "source": [
    "#Celcius to farenheit\n",
    "#c/5 = (f-32)/9\n",
    "celcius = float(input())\n",
    "farenheit = round(((celcius*(9/5))+32),3)\n",
    "print(f\" The farenheit value of give celcius based tmparature - {farenheit}\")"
   ]
  },
  {
   "cell_type": "code",
   "execution_count": 72,
   "id": "e5e2d487-4472-4f1b-a264-ee42a620d1fc",
   "metadata": {},
   "outputs": [
    {
     "data": {
      "text/plain": [
       "'diagonalsqrt(h2+w2), perimeter 2(h+w)'"
      ]
     },
     "execution_count": 72,
     "metadata": {},
     "output_type": "execute_result"
    }
   ],
   "source": [
    "'''diagonalsqrt(h2+w2), perimeter 2(h+w)'''"
   ]
  },
  {
   "cell_type": "code",
   "execution_count": 86,
   "id": "90671367-6c95-4607-a52d-ab105801d110",
   "metadata": {},
   "outputs": [
    {
     "name": "stdin",
     "output_type": "stream",
     "text": [
      " 5\n",
      " 7\n"
     ]
    },
    {
     "name": "stdout",
     "output_type": "stream",
     "text": [
      " The area, diagonal and perimeter of a given rectangle are - 35.0, 8.602 and 24.0\n"
     ]
    }
   ],
   "source": [
    "height = float(input())\n",
    "width = float(input())\n",
    "diagonal = round((sqrt((height**2)+(width**2))),3)\n",
    "perimeter = 2*(height+width)\n",
    "area = height*width\n",
    "print(f\" The area, diagonal and perimeter of a given rectangle are - {area}, {diagonal} and {perimeter}\")"
   ]
  },
  {
   "cell_type": "code",
   "execution_count": null,
   "id": "f9e4cc1c-0d40-4e43-b927-23ccb6a841e3",
   "metadata": {},
   "outputs": [],
   "source": []
  }
 ],
 "metadata": {
  "kernelspec": {
   "display_name": "Python 3 (ipykernel)",
   "language": "python",
   "name": "python3"
  },
  "language_info": {
   "codemirror_mode": {
    "name": "ipython",
    "version": 3
   },
   "file_extension": ".py",
   "mimetype": "text/x-python",
   "name": "python",
   "nbconvert_exporter": "python",
   "pygments_lexer": "ipython3",
   "version": "3.12.4"
  }
 },
 "nbformat": 4,
 "nbformat_minor": 5
}
